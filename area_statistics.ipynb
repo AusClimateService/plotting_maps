{
 "cells": [
  {
   "cell_type": "markdown",
   "id": "47149d1d-6286-4cb0-97e0-9c1165182cd6",
   "metadata": {},
   "source": [
    "# Cookie cutter\n",
    "\n",
    "The aim of this notebook is to produce summary statistics for Hazards over NCRA regions, with the flexibility to apply the method to any shapefile region.\n",
    "\n",
    "Typical statistics include median, mean, min, max, 10th, 90th percentiles\n",
    "\n",
    "This method has used guidance from [https://github.com/aus-ref-clim-data-nci/shapefiles/blob/master/python_tutorial.ipynb]"
   ]
  },
  {
   "cell_type": "markdown",
   "id": "a673fb94-1b8b-4ae1-8370-12ab65061e03",
   "metadata": {},
   "source": [
    "<div>\n",
    "<img src=\"cookie_cutter.jpg\" width=\"500\" title=\"Cookie cutter\"/>\n",
    "</div>"
   ]
  },
  {
   "cell_type": "markdown",
   "id": "80d8e644-4aae-4694-8a64-d103ae097212",
   "metadata": {},
   "source": [
    "## Step 1 - access needed packages"
   ]
  },
  {
   "cell_type": "code",
   "execution_count": 1,
   "id": "36cc4a65-2673-412c-8759-0d5ecd7d3f54",
   "metadata": {},
   "outputs": [],
   "source": [
    "# navigate to correct working directory"
   ]
  },
  {
   "cell_type": "code",
   "execution_count": 2,
   "id": "f5a14c8e-f291-474a-86d3-39637c7f2728",
   "metadata": {},
   "outputs": [
    {
     "name": "stdout",
     "output_type": "stream",
     "text": [
      "/g/data/mn51/users/gt3409/plotting_maps\n"
     ]
    }
   ],
   "source": [
    "cd /g/data/mn51/users/gt3409/plotting_maps/"
   ]
  },
  {
   "cell_type": "code",
   "execution_count": 3,
   "id": "848da856-4643-4764-9ce9-05b6a8548ff1",
   "metadata": {},
   "outputs": [],
   "source": [
    "# import needed packages\n",
    "from acs_area_statistics import acs_regional_stats, regions"
   ]
  },
  {
   "cell_type": "code",
   "execution_count": 4,
   "id": "4e699972-502b-40e9-bdad-b10ec9f3be38",
   "metadata": {},
   "outputs": [],
   "source": [
    "import xarray as xr\n",
    "import geopandas as gpd\n",
    "import regionmask\n",
    "import matplotlib.pyplot as plt\n",
    "import numpy as np\n"
   ]
  },
  {
   "cell_type": "code",
   "execution_count": 5,
   "id": "6b6c31cd-daf9-4f7b-9f62-2ed9953ae5e0",
   "metadata": {},
   "outputs": [
    {
     "data": {
      "text/plain": [
       "<regionmask.Regions 'unnamed'>\n",
       "overlap:  None\n",
       "\n",
       "Regions:\n",
       "0 VIC                Victoria\n",
       "1  NT      Northern Territory\n",
       "2 TAS                Tasmania\n",
       "3  SA         South Australia\n",
       "4 NSW   New South Wales & ACT\n",
       "5 WAN Western Australia North\n",
       "6 WAS Western Australia South\n",
       "7  SQ        Queensland South\n",
       "8  NQ        Queensland North\n",
       "\n",
       "[9 regions]"
      ]
     },
     "execution_count": 5,
     "metadata": {},
     "output_type": "execute_result"
    }
   ],
   "source": [
    "# read in the shapefile with regions you will use\n",
    "# from acs_plotting_maps import regions_dict\n",
    "# ncra_gdf = gpd.read_file(f'/g/data/ia39/aus-ref-clim-data-nci/shapefiles/data/ncra_regions/ncra_regions.shp')\n",
    "# ncra_gdf[\"abbrevs\"]=['VIC', 'NT','TAS', 'SA', 'NSW', 'WAN', 'WAS', 'SQ', 'NQ']\n",
    "# regions = regionmask.from_geopandas(ncra_gdf, names=\"NAME\", abbrevs=\"abbrevs\")\n",
    "regions"
   ]
  },
  {
   "cell_type": "markdown",
   "id": "66539853-e59a-4545-8f10-45a1031fb763",
   "metadata": {},
   "source": [
    "## Step 2 - Load and prepare data\n",
    "\n",
    "Open the data you need. \n"
   ]
  },
  {
   "cell_type": "code",
   "execution_count": 9,
   "id": "e86d1c80-1914-4a98-af00-2111bcdd1900",
   "metadata": {},
   "outputs": [
    {
     "name": "stdout",
     "output_type": "stream",
     "text": [
      "CPU times: user 9.16 ms, sys: 14.9 ms, total: 24.1 ms\n",
      "Wall time: 132 ms\n"
     ]
    }
   ],
   "source": [
    "%%time \n",
    "# open Hazard data\n",
    "# this is a slowish part of the code. It is likely to be reused if you're interested in calculating multiple statistics\n",
    "filename = \"/g/data/ia39/ncra/extratropical_storms/5km/RX1D_AGCD-05i_ACCESS-CM2_historical_r4i1p1f1_BOM_BARPA-R_v1-r1_annual.nc\"\n",
    "ds = xr.open_dataset(filename, use_cftime = True,)"
   ]
  },
  {
   "cell_type": "markdown",
   "id": "07e98607-e185-4888-80ab-55997ad193d9",
   "metadata": {},
   "source": [
    "## Step 3 - Create your mask\n",
    "\n",
    "There's a range of ways to calculate your mask:\n",
    "- **regions.mask_3D(ds)** will create a \"mask\" array that is ```True``` for all grid cells whose centre point falls within a particular state/territory and ```False``` elsewhere\n",
    "- **regions.mask_3D_frac_approx(ds)** will calculate the fraction of each grid cell that overlaps with each shape\n",
    "- **mask_10pct** you may create a mask from the fraction values we need to decide on a minimum overlap threshold. eg ```mask_10pct = frac >= 0.1```\n",
    "\n",
    "Fractional masking```regions.mask_3D_frac_approx(ds)``` which will weigh each lat lon grid by the approximate fraction of the area that lay within the shapefile geometery. It  is probably the most accurate, but more expensive than the simple mask_3D.\n",
    "\n",
    "The masking methods return an xr.DataArray with three dimensions:  **region**, **lat**, and **lon**."
   ]
  },
  {
   "cell_type": "code",
   "execution_count": 10,
   "id": "974715bc-7e93-435a-9da8-b523b35624cc",
   "metadata": {},
   "outputs": [],
   "source": [
    "# create your mask\n",
    "# you only need one mask. here are two examples. \n",
    "# you can also is a keyword fro the function to calculate the mask, but if you're performing multiple calculations, this can be slow."
   ]
  },
  {
   "cell_type": "code",
   "execution_count": 11,
   "id": "4b6b3284-ba6e-4e35-a08a-b7e6edeec318",
   "metadata": {},
   "outputs": [
    {
     "name": "stdout",
     "output_type": "stream",
     "text": [
      "CPU times: user 10.8 s, sys: 1.51 s, total: 12.3 s\n",
      "Wall time: 12.2 s\n"
     ]
    }
   ],
   "source": [
    "%%time\n",
    "# calculate weighted mask this is a very slow part of the code and\n",
    "# can be reused for any datasets using the same regions and the same lat lon\n",
    "mask_frac = regions.mask_3D_frac_approx(ds)"
   ]
  },
  {
   "cell_type": "code",
   "execution_count": 12,
   "id": "b3a5c780-0410-4aa0-a952-fc82aef32433",
   "metadata": {},
   "outputs": [
    {
     "name": "stdout",
     "output_type": "stream",
     "text": [
      "CPU times: user 1.59 s, sys: 80.5 ms, total: 1.67 s\n",
      "Wall time: 1.67 s\n"
     ]
    }
   ],
   "source": [
    "%%time\n",
    "mask_centred = regions.mask_3D(ds)"
   ]
  },
  {
   "cell_type": "markdown",
   "id": "e1862601-a652-4127-b0df-e61ed0b1099d",
   "metadata": {},
   "source": [
    "## Step 4: Use function\n",
    "To apply mask calculate a statistic to summarise each region "
   ]
  },
  {
   "cell_type": "code",
   "execution_count": 17,
   "id": "2fe93240-ed15-4f9d-8a6b-65464320d7da",
   "metadata": {},
   "outputs": [],
   "source": [
    "# calculate the stats using the acs_region_fractional_stats function\n",
    "\n",
    "start, end = (\"1991\", \"2010\") \n",
    "dims = (\"time\", \"lat\", \"lon\")\n",
    "how = \"mean\""
   ]
  },
  {
   "cell_type": "code",
   "execution_count": 19,
   "id": "3e9b4383-1bd1-4821-aab1-e94e04c35685",
   "metadata": {},
   "outputs": [
    {
     "name": "stdout",
     "output_type": "stream",
     "text": [
      "CPU times: user 2.5 s, sys: 1.23 s, total: 3.73 s\n",
      "Wall time: 3.73 s\n"
     ]
    },
    {
     "data": {
      "text/html": [
       "<div><svg style=\"position: absolute; width: 0; height: 0; overflow: hidden\">\n",
       "<defs>\n",
       "<symbol id=\"icon-database\" viewBox=\"0 0 32 32\">\n",
       "<path d=\"M16 0c-8.837 0-16 2.239-16 5v4c0 2.761 7.163 5 16 5s16-2.239 16-5v-4c0-2.761-7.163-5-16-5z\"></path>\n",
       "<path d=\"M16 17c-8.837 0-16-2.239-16-5v6c0 2.761 7.163 5 16 5s16-2.239 16-5v-6c0 2.761-7.163 5-16 5z\"></path>\n",
       "<path d=\"M16 26c-8.837 0-16-2.239-16-5v6c0 2.761 7.163 5 16 5s16-2.239 16-5v-6c0 2.761-7.163 5-16 5z\"></path>\n",
       "</symbol>\n",
       "<symbol id=\"icon-file-text2\" viewBox=\"0 0 32 32\">\n",
       "<path d=\"M28.681 7.159c-0.694-0.947-1.662-2.053-2.724-3.116s-2.169-2.030-3.116-2.724c-1.612-1.182-2.393-1.319-2.841-1.319h-15.5c-1.378 0-2.5 1.121-2.5 2.5v27c0 1.378 1.122 2.5 2.5 2.5h23c1.378 0 2.5-1.122 2.5-2.5v-19.5c0-0.448-0.137-1.23-1.319-2.841zM24.543 5.457c0.959 0.959 1.712 1.825 2.268 2.543h-4.811v-4.811c0.718 0.556 1.584 1.309 2.543 2.268zM28 29.5c0 0.271-0.229 0.5-0.5 0.5h-23c-0.271 0-0.5-0.229-0.5-0.5v-27c0-0.271 0.229-0.5 0.5-0.5 0 0 15.499-0 15.5 0v7c0 0.552 0.448 1 1 1h7v19.5z\"></path>\n",
       "<path d=\"M23 26h-14c-0.552 0-1-0.448-1-1s0.448-1 1-1h14c0.552 0 1 0.448 1 1s-0.448 1-1 1z\"></path>\n",
       "<path d=\"M23 22h-14c-0.552 0-1-0.448-1-1s0.448-1 1-1h14c0.552 0 1 0.448 1 1s-0.448 1-1 1z\"></path>\n",
       "<path d=\"M23 18h-14c-0.552 0-1-0.448-1-1s0.448-1 1-1h14c0.552 0 1 0.448 1 1s-0.448 1-1 1z\"></path>\n",
       "</symbol>\n",
       "</defs>\n",
       "</svg>\n",
       "<style>/* CSS stylesheet for displaying xarray objects in jupyterlab.\n",
       " *\n",
       " */\n",
       "\n",
       ":root {\n",
       "  --xr-font-color0: var(--jp-content-font-color0, rgba(0, 0, 0, 1));\n",
       "  --xr-font-color2: var(--jp-content-font-color2, rgba(0, 0, 0, 0.54));\n",
       "  --xr-font-color3: var(--jp-content-font-color3, rgba(0, 0, 0, 0.38));\n",
       "  --xr-border-color: var(--jp-border-color2, #e0e0e0);\n",
       "  --xr-disabled-color: var(--jp-layout-color3, #bdbdbd);\n",
       "  --xr-background-color: var(--jp-layout-color0, white);\n",
       "  --xr-background-color-row-even: var(--jp-layout-color1, white);\n",
       "  --xr-background-color-row-odd: var(--jp-layout-color2, #eeeeee);\n",
       "}\n",
       "\n",
       "html[theme=dark],\n",
       "body[data-theme=dark],\n",
       "body.vscode-dark {\n",
       "  --xr-font-color0: rgba(255, 255, 255, 1);\n",
       "  --xr-font-color2: rgba(255, 255, 255, 0.54);\n",
       "  --xr-font-color3: rgba(255, 255, 255, 0.38);\n",
       "  --xr-border-color: #1F1F1F;\n",
       "  --xr-disabled-color: #515151;\n",
       "  --xr-background-color: #111111;\n",
       "  --xr-background-color-row-even: #111111;\n",
       "  --xr-background-color-row-odd: #313131;\n",
       "}\n",
       "\n",
       ".xr-wrap {\n",
       "  display: block !important;\n",
       "  min-width: 300px;\n",
       "  max-width: 700px;\n",
       "}\n",
       "\n",
       ".xr-text-repr-fallback {\n",
       "  /* fallback to plain text repr when CSS is not injected (untrusted notebook) */\n",
       "  display: none;\n",
       "}\n",
       "\n",
       ".xr-header {\n",
       "  padding-top: 6px;\n",
       "  padding-bottom: 6px;\n",
       "  margin-bottom: 4px;\n",
       "  border-bottom: solid 1px var(--xr-border-color);\n",
       "}\n",
       "\n",
       ".xr-header > div,\n",
       ".xr-header > ul {\n",
       "  display: inline;\n",
       "  margin-top: 0;\n",
       "  margin-bottom: 0;\n",
       "}\n",
       "\n",
       ".xr-obj-type,\n",
       ".xr-array-name {\n",
       "  margin-left: 2px;\n",
       "  margin-right: 10px;\n",
       "}\n",
       "\n",
       ".xr-obj-type {\n",
       "  color: var(--xr-font-color2);\n",
       "}\n",
       "\n",
       ".xr-sections {\n",
       "  padding-left: 0 !important;\n",
       "  display: grid;\n",
       "  grid-template-columns: 150px auto auto 1fr 20px 20px;\n",
       "}\n",
       "\n",
       ".xr-section-item {\n",
       "  display: contents;\n",
       "}\n",
       "\n",
       ".xr-section-item input {\n",
       "  display: none;\n",
       "}\n",
       "\n",
       ".xr-section-item input + label {\n",
       "  color: var(--xr-disabled-color);\n",
       "}\n",
       "\n",
       ".xr-section-item input:enabled + label {\n",
       "  cursor: pointer;\n",
       "  color: var(--xr-font-color2);\n",
       "}\n",
       "\n",
       ".xr-section-item input:enabled + label:hover {\n",
       "  color: var(--xr-font-color0);\n",
       "}\n",
       "\n",
       ".xr-section-summary {\n",
       "  grid-column: 1;\n",
       "  color: var(--xr-font-color2);\n",
       "  font-weight: 500;\n",
       "}\n",
       "\n",
       ".xr-section-summary > span {\n",
       "  display: inline-block;\n",
       "  padding-left: 0.5em;\n",
       "}\n",
       "\n",
       ".xr-section-summary-in:disabled + label {\n",
       "  color: var(--xr-font-color2);\n",
       "}\n",
       "\n",
       ".xr-section-summary-in + label:before {\n",
       "  display: inline-block;\n",
       "  content: '►';\n",
       "  font-size: 11px;\n",
       "  width: 15px;\n",
       "  text-align: center;\n",
       "}\n",
       "\n",
       ".xr-section-summary-in:disabled + label:before {\n",
       "  color: var(--xr-disabled-color);\n",
       "}\n",
       "\n",
       ".xr-section-summary-in:checked + label:before {\n",
       "  content: '▼';\n",
       "}\n",
       "\n",
       ".xr-section-summary-in:checked + label > span {\n",
       "  display: none;\n",
       "}\n",
       "\n",
       ".xr-section-summary,\n",
       ".xr-section-inline-details {\n",
       "  padding-top: 4px;\n",
       "  padding-bottom: 4px;\n",
       "}\n",
       "\n",
       ".xr-section-inline-details {\n",
       "  grid-column: 2 / -1;\n",
       "}\n",
       "\n",
       ".xr-section-details {\n",
       "  display: none;\n",
       "  grid-column: 1 / -1;\n",
       "  margin-bottom: 5px;\n",
       "}\n",
       "\n",
       ".xr-section-summary-in:checked ~ .xr-section-details {\n",
       "  display: contents;\n",
       "}\n",
       "\n",
       ".xr-array-wrap {\n",
       "  grid-column: 1 / -1;\n",
       "  display: grid;\n",
       "  grid-template-columns: 20px auto;\n",
       "}\n",
       "\n",
       ".xr-array-wrap > label {\n",
       "  grid-column: 1;\n",
       "  vertical-align: top;\n",
       "}\n",
       "\n",
       ".xr-preview {\n",
       "  color: var(--xr-font-color3);\n",
       "}\n",
       "\n",
       ".xr-array-preview,\n",
       ".xr-array-data {\n",
       "  padding: 0 5px !important;\n",
       "  grid-column: 2;\n",
       "}\n",
       "\n",
       ".xr-array-data,\n",
       ".xr-array-in:checked ~ .xr-array-preview {\n",
       "  display: none;\n",
       "}\n",
       "\n",
       ".xr-array-in:checked ~ .xr-array-data,\n",
       ".xr-array-preview {\n",
       "  display: inline-block;\n",
       "}\n",
       "\n",
       ".xr-dim-list {\n",
       "  display: inline-block !important;\n",
       "  list-style: none;\n",
       "  padding: 0 !important;\n",
       "  margin: 0;\n",
       "}\n",
       "\n",
       ".xr-dim-list li {\n",
       "  display: inline-block;\n",
       "  padding: 0;\n",
       "  margin: 0;\n",
       "}\n",
       "\n",
       ".xr-dim-list:before {\n",
       "  content: '(';\n",
       "}\n",
       "\n",
       ".xr-dim-list:after {\n",
       "  content: ')';\n",
       "}\n",
       "\n",
       ".xr-dim-list li:not(:last-child):after {\n",
       "  content: ',';\n",
       "  padding-right: 5px;\n",
       "}\n",
       "\n",
       ".xr-has-index {\n",
       "  font-weight: bold;\n",
       "}\n",
       "\n",
       ".xr-var-list,\n",
       ".xr-var-item {\n",
       "  display: contents;\n",
       "}\n",
       "\n",
       ".xr-var-item > div,\n",
       ".xr-var-item label,\n",
       ".xr-var-item > .xr-var-name span {\n",
       "  background-color: var(--xr-background-color-row-even);\n",
       "  margin-bottom: 0;\n",
       "}\n",
       "\n",
       ".xr-var-item > .xr-var-name:hover span {\n",
       "  padding-right: 5px;\n",
       "}\n",
       "\n",
       ".xr-var-list > li:nth-child(odd) > div,\n",
       ".xr-var-list > li:nth-child(odd) > label,\n",
       ".xr-var-list > li:nth-child(odd) > .xr-var-name span {\n",
       "  background-color: var(--xr-background-color-row-odd);\n",
       "}\n",
       "\n",
       ".xr-var-name {\n",
       "  grid-column: 1;\n",
       "}\n",
       "\n",
       ".xr-var-dims {\n",
       "  grid-column: 2;\n",
       "}\n",
       "\n",
       ".xr-var-dtype {\n",
       "  grid-column: 3;\n",
       "  text-align: right;\n",
       "  color: var(--xr-font-color2);\n",
       "}\n",
       "\n",
       ".xr-var-preview {\n",
       "  grid-column: 4;\n",
       "}\n",
       "\n",
       ".xr-index-preview {\n",
       "  grid-column: 2 / 5;\n",
       "  color: var(--xr-font-color2);\n",
       "}\n",
       "\n",
       ".xr-var-name,\n",
       ".xr-var-dims,\n",
       ".xr-var-dtype,\n",
       ".xr-preview,\n",
       ".xr-attrs dt {\n",
       "  white-space: nowrap;\n",
       "  overflow: hidden;\n",
       "  text-overflow: ellipsis;\n",
       "  padding-right: 10px;\n",
       "}\n",
       "\n",
       ".xr-var-name:hover,\n",
       ".xr-var-dims:hover,\n",
       ".xr-var-dtype:hover,\n",
       ".xr-attrs dt:hover {\n",
       "  overflow: visible;\n",
       "  width: auto;\n",
       "  z-index: 1;\n",
       "}\n",
       "\n",
       ".xr-var-attrs,\n",
       ".xr-var-data,\n",
       ".xr-index-data {\n",
       "  display: none;\n",
       "  background-color: var(--xr-background-color) !important;\n",
       "  padding-bottom: 5px !important;\n",
       "}\n",
       "\n",
       ".xr-var-attrs-in:checked ~ .xr-var-attrs,\n",
       ".xr-var-data-in:checked ~ .xr-var-data,\n",
       ".xr-index-data-in:checked ~ .xr-index-data {\n",
       "  display: block;\n",
       "}\n",
       "\n",
       ".xr-var-data > table {\n",
       "  float: right;\n",
       "}\n",
       "\n",
       ".xr-var-name span,\n",
       ".xr-var-data,\n",
       ".xr-index-name div,\n",
       ".xr-index-data,\n",
       ".xr-attrs {\n",
       "  padding-left: 25px !important;\n",
       "}\n",
       "\n",
       ".xr-attrs,\n",
       ".xr-var-attrs,\n",
       ".xr-var-data,\n",
       ".xr-index-data {\n",
       "  grid-column: 1 / -1;\n",
       "}\n",
       "\n",
       "dl.xr-attrs {\n",
       "  padding: 0;\n",
       "  margin: 0;\n",
       "  display: grid;\n",
       "  grid-template-columns: 125px auto;\n",
       "}\n",
       "\n",
       ".xr-attrs dt,\n",
       ".xr-attrs dd {\n",
       "  padding: 0;\n",
       "  margin: 0;\n",
       "  float: left;\n",
       "  padding-right: 10px;\n",
       "  width: auto;\n",
       "}\n",
       "\n",
       ".xr-attrs dt {\n",
       "  font-weight: normal;\n",
       "  grid-column: 1;\n",
       "}\n",
       "\n",
       ".xr-attrs dt:hover span {\n",
       "  display: inline-block;\n",
       "  background: var(--xr-background-color);\n",
       "  padding-right: 10px;\n",
       "}\n",
       "\n",
       ".xr-attrs dd {\n",
       "  grid-column: 2;\n",
       "  white-space: pre-wrap;\n",
       "  word-break: break-all;\n",
       "}\n",
       "\n",
       ".xr-icon-database,\n",
       ".xr-icon-file-text2,\n",
       ".xr-no-icon {\n",
       "  display: inline-block;\n",
       "  vertical-align: middle;\n",
       "  width: 1em;\n",
       "  height: 1.5em !important;\n",
       "  stroke-width: 0;\n",
       "  stroke: currentColor;\n",
       "  fill: currentColor;\n",
       "}\n",
       "</style><pre class='xr-text-repr-fallback'>&lt;xarray.Dataset&gt; Size: 1kB\n",
       "Dimensions:  (region: 9)\n",
       "Coordinates:\n",
       "  * region   (region) int64 72B 0 1 2 3 4 5 6 7 8\n",
       "    abbrevs  (region) &lt;U3 108B &#x27;VIC&#x27; &#x27;NT&#x27; &#x27;TAS&#x27; &#x27;SA&#x27; &#x27;NSW&#x27; &#x27;WAN&#x27; &#x27;WAS&#x27; &#x27;SQ&#x27; &#x27;NQ&#x27;\n",
       "    names    (region) &lt;U23 828B &#x27;Victoria&#x27; ... &#x27;Queensland North&#x27;\n",
       "Data variables:\n",
       "    pr_mean  (region) float64 72B 48.3 85.39 56.84 41.99 ... 48.42 64.71 90.65\n",
       "    pr_min   (region) float64 72B 9.719 6.215 11.95 6.339 ... 4.867 3.367 6.198\n",
       "    pr_max   (region) float64 72B 275.8 1.102e+03 254.2 ... 634.2 1.054e+03</pre><div class='xr-wrap' style='display:none'><div class='xr-header'><div class='xr-obj-type'>xarray.Dataset</div></div><ul class='xr-sections'><li class='xr-section-item'><input id='section-9a8deb04-d8e5-4c40-916c-d2c18ea245de' class='xr-section-summary-in' type='checkbox' disabled ><label for='section-9a8deb04-d8e5-4c40-916c-d2c18ea245de' class='xr-section-summary'  title='Expand/collapse section'>Dimensions:</label><div class='xr-section-inline-details'><ul class='xr-dim-list'><li><span class='xr-has-index'>region</span>: 9</li></ul></div><div class='xr-section-details'></div></li><li class='xr-section-item'><input id='section-bada34e5-86ad-4306-b529-ea6f6d082d65' class='xr-section-summary-in' type='checkbox'  checked><label for='section-bada34e5-86ad-4306-b529-ea6f6d082d65' class='xr-section-summary' >Coordinates: <span>(3)</span></label><div class='xr-section-inline-details'></div><div class='xr-section-details'><ul class='xr-var-list'><li class='xr-var-item'><div class='xr-var-name'><span class='xr-has-index'>region</span></div><div class='xr-var-dims'>(region)</div><div class='xr-var-dtype'>int64</div><div class='xr-var-preview xr-preview'>0 1 2 3 4 5 6 7 8</div><input id='attrs-714af387-b9d4-4d8c-9e9e-b166349b35a7' class='xr-var-attrs-in' type='checkbox' disabled><label for='attrs-714af387-b9d4-4d8c-9e9e-b166349b35a7' title='Show/Hide attributes'><svg class='icon xr-icon-file-text2'><use xlink:href='#icon-file-text2'></use></svg></label><input id='data-8cb7659f-002e-4202-85aa-35b894882d9d' class='xr-var-data-in' type='checkbox'><label for='data-8cb7659f-002e-4202-85aa-35b894882d9d' title='Show/Hide data repr'><svg class='icon xr-icon-database'><use xlink:href='#icon-database'></use></svg></label><div class='xr-var-attrs'><dl class='xr-attrs'></dl></div><div class='xr-var-data'><pre>array([0, 1, 2, 3, 4, 5, 6, 7, 8])</pre></div></li><li class='xr-var-item'><div class='xr-var-name'><span>abbrevs</span></div><div class='xr-var-dims'>(region)</div><div class='xr-var-dtype'>&lt;U3</div><div class='xr-var-preview xr-preview'>&#x27;VIC&#x27; &#x27;NT&#x27; &#x27;TAS&#x27; ... &#x27;SQ&#x27; &#x27;NQ&#x27;</div><input id='attrs-2cdeaade-834a-4f24-b140-d258b45d7902' class='xr-var-attrs-in' type='checkbox' disabled><label for='attrs-2cdeaade-834a-4f24-b140-d258b45d7902' title='Show/Hide attributes'><svg class='icon xr-icon-file-text2'><use xlink:href='#icon-file-text2'></use></svg></label><input id='data-bb65e62a-5aeb-49c4-803c-e8784fc7b6f6' class='xr-var-data-in' type='checkbox'><label for='data-bb65e62a-5aeb-49c4-803c-e8784fc7b6f6' title='Show/Hide data repr'><svg class='icon xr-icon-database'><use xlink:href='#icon-database'></use></svg></label><div class='xr-var-attrs'><dl class='xr-attrs'></dl></div><div class='xr-var-data'><pre>array([&#x27;VIC&#x27;, &#x27;NT&#x27;, &#x27;TAS&#x27;, &#x27;SA&#x27;, &#x27;NSW&#x27;, &#x27;WAN&#x27;, &#x27;WAS&#x27;, &#x27;SQ&#x27;, &#x27;NQ&#x27;],\n",
       "      dtype=&#x27;&lt;U3&#x27;)</pre></div></li><li class='xr-var-item'><div class='xr-var-name'><span>names</span></div><div class='xr-var-dims'>(region)</div><div class='xr-var-dtype'>&lt;U23</div><div class='xr-var-preview xr-preview'>&#x27;Victoria&#x27; ... &#x27;Queensland North&#x27;</div><input id='attrs-52a24576-74f9-4bc0-9081-af33acd377ed' class='xr-var-attrs-in' type='checkbox' disabled><label for='attrs-52a24576-74f9-4bc0-9081-af33acd377ed' title='Show/Hide attributes'><svg class='icon xr-icon-file-text2'><use xlink:href='#icon-file-text2'></use></svg></label><input id='data-18cd750a-ee21-4399-a7e6-557013c3fddd' class='xr-var-data-in' type='checkbox'><label for='data-18cd750a-ee21-4399-a7e6-557013c3fddd' title='Show/Hide data repr'><svg class='icon xr-icon-database'><use xlink:href='#icon-database'></use></svg></label><div class='xr-var-attrs'><dl class='xr-attrs'></dl></div><div class='xr-var-data'><pre>array([&#x27;Victoria&#x27;, &#x27;Northern Territory&#x27;, &#x27;Tasmania&#x27;, &#x27;South Australia&#x27;,\n",
       "       &#x27;New South Wales &amp; ACT&#x27;, &#x27;Western Australia North&#x27;,\n",
       "       &#x27;Western Australia South&#x27;, &#x27;Queensland South&#x27;, &#x27;Queensland North&#x27;],\n",
       "      dtype=&#x27;&lt;U23&#x27;)</pre></div></li></ul></div></li><li class='xr-section-item'><input id='section-4eb6d4a1-bec7-4518-bc1d-39787c8aeae2' class='xr-section-summary-in' type='checkbox'  checked><label for='section-4eb6d4a1-bec7-4518-bc1d-39787c8aeae2' class='xr-section-summary' >Data variables: <span>(3)</span></label><div class='xr-section-inline-details'></div><div class='xr-section-details'><ul class='xr-var-list'><li class='xr-var-item'><div class='xr-var-name'><span>pr_mean</span></div><div class='xr-var-dims'>(region)</div><div class='xr-var-dtype'>float64</div><div class='xr-var-preview xr-preview'>48.3 85.39 56.84 ... 64.71 90.65</div><input id='attrs-93bbbf38-190e-4cf1-8d79-185c82cbe176' class='xr-var-attrs-in' type='checkbox' disabled><label for='attrs-93bbbf38-190e-4cf1-8d79-185c82cbe176' title='Show/Hide attributes'><svg class='icon xr-icon-file-text2'><use xlink:href='#icon-file-text2'></use></svg></label><input id='data-02e8ed10-0e26-4567-80c5-398b80d489f5' class='xr-var-data-in' type='checkbox'><label for='data-02e8ed10-0e26-4567-80c5-398b80d489f5' title='Show/Hide data repr'><svg class='icon xr-icon-database'><use xlink:href='#icon-database'></use></svg></label><div class='xr-var-attrs'><dl class='xr-attrs'></dl></div><div class='xr-var-data'><pre>array([48.29607028, 85.38559917, 56.84069119, 41.98991372, 57.87682356,\n",
       "       78.22834357, 48.4225218 , 64.71085976, 90.65452625])</pre></div></li><li class='xr-var-item'><div class='xr-var-name'><span>pr_min</span></div><div class='xr-var-dims'>(region)</div><div class='xr-var-dtype'>float64</div><div class='xr-var-preview xr-preview'>9.719 6.215 11.95 ... 3.367 6.198</div><input id='attrs-f2ea1c74-7955-4ea4-a6dc-abf0c8fb34d9' class='xr-var-attrs-in' type='checkbox' disabled><label for='attrs-f2ea1c74-7955-4ea4-a6dc-abf0c8fb34d9' title='Show/Hide attributes'><svg class='icon xr-icon-file-text2'><use xlink:href='#icon-file-text2'></use></svg></label><input id='data-48f206ed-9519-4ac5-b4ab-dff0ebbc5ebe' class='xr-var-data-in' type='checkbox'><label for='data-48f206ed-9519-4ac5-b4ab-dff0ebbc5ebe' title='Show/Hide data repr'><svg class='icon xr-icon-database'><use xlink:href='#icon-database'></use></svg></label><div class='xr-var-attrs'><dl class='xr-attrs'></dl></div><div class='xr-var-data'><pre>array([ 9.71875   ,  6.21476086, 11.953125  ,  6.3385552 ,  7.8125    ,\n",
       "        4.32687793,  4.8671875 ,  3.3671875 ,  6.19814449])</pre></div></li><li class='xr-var-item'><div class='xr-var-name'><span>pr_max</span></div><div class='xr-var-dims'>(region)</div><div class='xr-var-dtype'>float64</div><div class='xr-var-preview xr-preview'>275.8 1.102e+03 ... 634.2 1.054e+03</div><input id='attrs-88df216a-d5ff-49c3-89d6-6f248f4df75b' class='xr-var-attrs-in' type='checkbox' disabled><label for='attrs-88df216a-d5ff-49c3-89d6-6f248f4df75b' title='Show/Hide attributes'><svg class='icon xr-icon-file-text2'><use xlink:href='#icon-file-text2'></use></svg></label><input id='data-f24c1d09-15a9-4016-8619-368646df255b' class='xr-var-data-in' type='checkbox'><label for='data-f24c1d09-15a9-4016-8619-368646df255b' title='Show/Hide data repr'><svg class='icon xr-icon-database'><use xlink:href='#icon-database'></use></svg></label><div class='xr-var-attrs'><dl class='xr-attrs'></dl></div><div class='xr-var-data'><pre>array([ 275.75      , 1101.63898727,  254.23437444,  430.078125  ,\n",
       "        627.26835129, 1007.35881585,  485.4609375 ,  634.15625   ,\n",
       "       1054.05462811])</pre></div></li></ul></div></li><li class='xr-section-item'><input id='section-41524d9c-8ef9-4a55-b797-791b95d4a34d' class='xr-section-summary-in' type='checkbox'  ><label for='section-41524d9c-8ef9-4a55-b797-791b95d4a34d' class='xr-section-summary' >Indexes: <span>(1)</span></label><div class='xr-section-inline-details'></div><div class='xr-section-details'><ul class='xr-var-list'><li class='xr-var-item'><div class='xr-index-name'><div>region</div></div><div class='xr-index-preview'>PandasIndex</div><div></div><input id='index-40700947-4117-4187-89a5-930dc9b66ab1' class='xr-index-data-in' type='checkbox'/><label for='index-40700947-4117-4187-89a5-930dc9b66ab1' title='Show/Hide index repr'><svg class='icon xr-icon-database'><use xlink:href='#icon-database'></use></svg></label><div class='xr-index-data'><pre>PandasIndex(Index([0, 1, 2, 3, 4, 5, 6, 7, 8], dtype=&#x27;int64&#x27;, name=&#x27;region&#x27;))</pre></div></li></ul></div></li><li class='xr-section-item'><input id='section-6744d52d-1a30-4ef7-af35-6fedcefc5a2e' class='xr-section-summary-in' type='checkbox' disabled ><label for='section-6744d52d-1a30-4ef7-af35-6fedcefc5a2e' class='xr-section-summary'  title='Expand/collapse section'>Attributes: <span>(0)</span></label><div class='xr-section-inline-details'></div><div class='xr-section-details'><dl class='xr-attrs'></dl></div></li></ul></div></div>"
      ],
      "text/plain": [
       "<xarray.Dataset> Size: 1kB\n",
       "Dimensions:  (region: 9)\n",
       "Coordinates:\n",
       "  * region   (region) int64 72B 0 1 2 3 4 5 6 7 8\n",
       "    abbrevs  (region) <U3 108B 'VIC' 'NT' 'TAS' 'SA' 'NSW' 'WAN' 'WAS' 'SQ' 'NQ'\n",
       "    names    (region) <U23 828B 'Victoria' ... 'Queensland North'\n",
       "Data variables:\n",
       "    pr_mean  (region) float64 72B 48.3 85.39 56.84 41.99 ... 48.42 64.71 90.65\n",
       "    pr_min   (region) float64 72B 9.719 6.215 11.95 6.339 ... 4.867 3.367 6.198\n",
       "    pr_max   (region) float64 72B 275.8 1.102e+03 254.2 ... 634.2 1.054e+03"
      ]
     },
     "execution_count": 19,
     "metadata": {},
     "output_type": "execute_result"
    }
   ],
   "source": [
    "%%time\n",
    "# default regional summary average, min, max\n",
    "da_mean = acs_regional_stats(ds=ds, var=var, mask =mask_frac, start=start, end=end, dims = dims, how = \"mean\")\n",
    "da_min  = acs_regional_stats(ds=ds, var=var, mask =mask_frac, start=start, end=end, dims = dims, how = \"min\")\n",
    "da_max  = acs_regional_stats(ds=ds, var=var, mask =mask_frac, start=start, end=end, dims = dims, how = \"max\")\n",
    "\n",
    "da_summary = xr.merge([da_mean, da_min, da_max])\n",
    "da_summary"
   ]
  },
  {
   "cell_type": "code",
   "execution_count": 20,
   "id": "b787c3da-341f-4840-9749-61e8a5dd036a",
   "metadata": {},
   "outputs": [
    {
     "data": {
      "text/html": [
       "<div>\n",
       "<style scoped>\n",
       "    .dataframe tbody tr th:only-of-type {\n",
       "        vertical-align: middle;\n",
       "    }\n",
       "\n",
       "    .dataframe tbody tr th {\n",
       "        vertical-align: top;\n",
       "    }\n",
       "\n",
       "    .dataframe thead th {\n",
       "        text-align: right;\n",
       "    }\n",
       "</style>\n",
       "<table border=\"1\" class=\"dataframe\">\n",
       "  <thead>\n",
       "    <tr style=\"text-align: right;\">\n",
       "      <th></th>\n",
       "      <th>abbrevs</th>\n",
       "      <th>names</th>\n",
       "      <th>pr_mean</th>\n",
       "      <th>pr_min</th>\n",
       "      <th>pr_max</th>\n",
       "    </tr>\n",
       "    <tr>\n",
       "      <th>region</th>\n",
       "      <th></th>\n",
       "      <th></th>\n",
       "      <th></th>\n",
       "      <th></th>\n",
       "      <th></th>\n",
       "    </tr>\n",
       "  </thead>\n",
       "  <tbody>\n",
       "    <tr>\n",
       "      <th>0</th>\n",
       "      <td>VIC</td>\n",
       "      <td>Victoria</td>\n",
       "      <td>48.296070</td>\n",
       "      <td>9.718750</td>\n",
       "      <td>275.750000</td>\n",
       "    </tr>\n",
       "    <tr>\n",
       "      <th>1</th>\n",
       "      <td>NT</td>\n",
       "      <td>Northern Territory</td>\n",
       "      <td>85.385599</td>\n",
       "      <td>6.214761</td>\n",
       "      <td>1101.638987</td>\n",
       "    </tr>\n",
       "    <tr>\n",
       "      <th>2</th>\n",
       "      <td>TAS</td>\n",
       "      <td>Tasmania</td>\n",
       "      <td>56.840691</td>\n",
       "      <td>11.953125</td>\n",
       "      <td>254.234374</td>\n",
       "    </tr>\n",
       "    <tr>\n",
       "      <th>3</th>\n",
       "      <td>SA</td>\n",
       "      <td>South Australia</td>\n",
       "      <td>41.989914</td>\n",
       "      <td>6.338555</td>\n",
       "      <td>430.078125</td>\n",
       "    </tr>\n",
       "    <tr>\n",
       "      <th>4</th>\n",
       "      <td>NSW</td>\n",
       "      <td>New South Wales &amp; ACT</td>\n",
       "      <td>57.876824</td>\n",
       "      <td>7.812500</td>\n",
       "      <td>627.268351</td>\n",
       "    </tr>\n",
       "    <tr>\n",
       "      <th>5</th>\n",
       "      <td>WAN</td>\n",
       "      <td>Western Australia North</td>\n",
       "      <td>78.228344</td>\n",
       "      <td>4.326878</td>\n",
       "      <td>1007.358816</td>\n",
       "    </tr>\n",
       "    <tr>\n",
       "      <th>6</th>\n",
       "      <td>WAS</td>\n",
       "      <td>Western Australia South</td>\n",
       "      <td>48.422522</td>\n",
       "      <td>4.867188</td>\n",
       "      <td>485.460938</td>\n",
       "    </tr>\n",
       "    <tr>\n",
       "      <th>7</th>\n",
       "      <td>SQ</td>\n",
       "      <td>Queensland South</td>\n",
       "      <td>64.710860</td>\n",
       "      <td>3.367188</td>\n",
       "      <td>634.156250</td>\n",
       "    </tr>\n",
       "    <tr>\n",
       "      <th>8</th>\n",
       "      <td>NQ</td>\n",
       "      <td>Queensland North</td>\n",
       "      <td>90.654526</td>\n",
       "      <td>6.198144</td>\n",
       "      <td>1054.054628</td>\n",
       "    </tr>\n",
       "  </tbody>\n",
       "</table>\n",
       "</div>"
      ],
      "text/plain": [
       "       abbrevs                    names    pr_mean     pr_min       pr_max\n",
       "region                                                                    \n",
       "0          VIC                 Victoria  48.296070   9.718750   275.750000\n",
       "1           NT       Northern Territory  85.385599   6.214761  1101.638987\n",
       "2          TAS                 Tasmania  56.840691  11.953125   254.234374\n",
       "3           SA          South Australia  41.989914   6.338555   430.078125\n",
       "4          NSW    New South Wales & ACT  57.876824   7.812500   627.268351\n",
       "5          WAN  Western Australia North  78.228344   4.326878  1007.358816\n",
       "6          WAS  Western Australia South  48.422522   4.867188   485.460938\n",
       "7           SQ         Queensland South  64.710860   3.367188   634.156250\n",
       "8           NQ         Queensland North  90.654526   6.198144  1054.054628"
      ]
     },
     "execution_count": 20,
     "metadata": {},
     "output_type": "execute_result"
    }
   ],
   "source": [
    "da_summary.to_dataframe()"
   ]
  },
  {
   "cell_type": "code",
   "execution_count": null,
   "id": "3ae004d9-0ec0-45fd-9e80-18f4c60e7e19",
   "metadata": {},
   "outputs": [],
   "source": []
  },
  {
   "cell_type": "code",
   "execution_count": null,
   "id": "47e08e93-6acc-4e41-b7ea-9895507cc116",
   "metadata": {},
   "outputs": [],
   "source": [
    "## extra things"
   ]
  },
  {
   "cell_type": "code",
   "execution_count": null,
   "id": "e9e30e43-8b8b-4388-bf70-01cc4e379b43",
   "metadata": {},
   "outputs": [],
   "source": []
  },
  {
   "cell_type": "code",
   "execution_count": null,
   "id": "5bb7f03f-c030-4ad7-aceb-edba66a070da",
   "metadata": {},
   "outputs": [],
   "source": []
  },
  {
   "cell_type": "code",
   "execution_count": null,
   "id": "1a1f8d0e-e654-4005-ac9b-f4dc19399caf",
   "metadata": {},
   "outputs": [],
   "source": []
  },
  {
   "cell_type": "code",
   "execution_count": null,
   "id": "03ae37cc-3dfa-4104-9f5d-a5572b1ebe2d",
   "metadata": {},
   "outputs": [],
   "source": [
    "da_p90 = acs_regional_stats(ds=ds, var=var, mask =mask_frac, start=start, end=end, dims = (\"time\", \"lat\", \"lon\"), how = \"quantile\", quantile=0.9)"
   ]
  },
  {
   "cell_type": "code",
   "execution_count": null,
   "id": "6cc0aa69-98b0-457a-b052-aceb7cb825ff",
   "metadata": {},
   "outputs": [],
   "source": [
    "%%time\n",
    "# regional mean\n",
    "da_mean = acs_regional_stats(ds=ds, var=var, mask =mask_frac, start=start, end=end, dims = (\"time\", \"lat\", \"lon\"), how = \"mean\")\n",
    "da_mean"
   ]
  },
  {
   "cell_type": "code",
   "execution_count": null,
   "id": "2598e67f-0902-474f-ad01-07f157e34ba2",
   "metadata": {},
   "outputs": [],
   "source": [
    "%%time\n",
    "# regional mean\n",
    "da_max = acs_regional_stats(ds=ds, var=var, mask =mask_frac, start=start, end=end, dims = (\"time\", \"lat\", \"lon\"), how = \"max\")\n",
    "da_max"
   ]
  },
  {
   "cell_type": "code",
   "execution_count": null,
   "id": "163fd56e-31f4-4ff5-8e97-e45a2e63044f",
   "metadata": {},
   "outputs": [],
   "source": []
  },
  {
   "cell_type": "code",
   "execution_count": null,
   "id": "e13e6f3e-7bb0-452c-8446-8354c0be304a",
   "metadata": {},
   "outputs": [],
   "source": [
    "xr.merge([da_mean, da_max, da_p90])"
   ]
  },
  {
   "cell_type": "code",
   "execution_count": null,
   "id": "c3c47a09-1872-4b2d-ae49-638d3a7e308f",
   "metadata": {},
   "outputs": [],
   "source": [
    "xr.merge([da_mean, da_max, da_p90]).to_dataframe()"
   ]
  },
  {
   "cell_type": "code",
   "execution_count": null,
   "id": "06a4f581-b077-454e-8ae2-e8a7bb1ea500",
   "metadata": {},
   "outputs": [],
   "source": [
    "xr.merge([da_mean, da_max, da_p90])[[\"names\", \"pr_p90\"]]"
   ]
  },
  {
   "cell_type": "code",
   "execution_count": null,
   "id": "adca2a5d-3bfc-4bc1-9b9a-010053725afd",
   "metadata": {},
   "outputs": [],
   "source": [
    "%%time\n",
    "# select one region\n",
    "da_mean = acs_regional_stats(ds=ds, var=var, mask =mask_frac, start=start, end=end, dims = (\"time\", \"lat\", \"lon\"), how = \"mean\", select_abbr=[\"VIC\"])\n",
    "da_mean"
   ]
  },
  {
   "cell_type": "code",
   "execution_count": null,
   "id": "9d0bac23-d26e-40fe-bb49-5564883ad226",
   "metadata": {},
   "outputs": [],
   "source": [
    "%%time\n",
    "# select one region and get timeseries\n",
    "da_mean = acs_regional_stats(ds=ds, var=var, mask =mask_frac, start=start, end=end, dims = (\"lat\", \"lon\"), how = \"mean\", select_abbr=[\"VIC\"])\n",
    "da_mean.squeeze()\n"
   ]
  },
  {
   "cell_type": "code",
   "execution_count": null,
   "id": "756b3f35-fbdc-4e4b-ada0-3f24f8d5b5bc",
   "metadata": {},
   "outputs": [],
   "source": [
    "da_mean.squeeze().plot()"
   ]
  },
  {
   "cell_type": "code",
   "execution_count": null,
   "id": "6f67ac84-c231-4667-982a-b44ae16d5eaa",
   "metadata": {},
   "outputs": [],
   "source": [
    "%%time\n",
    "# regional mean\n",
    "da_mean = acs_regional_stats(ds=ds, var=var, mask = \"fractional\", start=start, end=end, dims = (\"time\", \"lat\", \"lon\"), how = \"mean\")\n",
    "da_mean.to_dataframe()"
   ]
  },
  {
   "cell_type": "code",
   "execution_count": null,
   "id": "a0e9911a-eeb5-4fd6-8f28-54748e3f86d2",
   "metadata": {},
   "outputs": [],
   "source": [
    "%%time\n",
    "# regional mean\n",
    "da_mean = acs_regional_stats(ds=ds, var=var, mask = \"centred\", start=start, end=end, dims = (\"time\", \"lat\", \"lon\"), how = \"mean\")\n",
    "da_mean.to_dataframe()"
   ]
  },
  {
   "cell_type": "code",
   "execution_count": null,
   "id": "05a1744e-f645-4a40-8763-f10faa4ae084",
   "metadata": {},
   "outputs": [],
   "source": [
    "%%time\n",
    "# regional mean\n",
    "da_mean = acs_regional_stats(ds=ds, var=var, mask = \"min_overlap\", start=start, end=end, dims = (\"time\", \"lat\", \"lon\"), how = \"mean\", overlap_threshold=0.3)\n",
    "da_mean.to_dataframe()\n"
   ]
  },
  {
   "cell_type": "code",
   "execution_count": null,
   "id": "2847e115-f27d-4180-9d45-424c7a214723",
   "metadata": {},
   "outputs": [],
   "source": [
    "%%time\n",
    "# regional mean\n",
    "da_mean = acs_regional_stats(ds=ds, var=var, mask =mask_frac, start=start, end=end, dims = (\"lat\", \"lon\"), how = \"mean\")\n",
    "da_mean.to_dataframe(dim_order=[\"region\", \"time\"])"
   ]
  },
  {
   "cell_type": "code",
   "execution_count": null,
   "id": "cd98005b-4b0b-4a60-8b59-e4dea9ed22a9",
   "metadata": {},
   "outputs": [],
   "source": [
    "da_mean.sel(region=(regions.abbrevs.index(\"NSW\"))).plot()"
   ]
  },
  {
   "cell_type": "code",
   "execution_count": null,
   "id": "1c581530-8826-4167-b641-9568c4b572eb",
   "metadata": {},
   "outputs": [],
   "source": [
    "%%time\n",
    "# regional mean\n",
    "da_mean = acs_regional_stats(ds=ds, var=var, mask =mask_frac, start=start, end=end, dims = (\"lat\", \"lon\"), how = \"mean\")\n",
    "da_mean.to_dataframe(dim_order=[\"region\", \"time\"])\n"
   ]
  },
  {
   "cell_type": "code",
   "execution_count": null,
   "id": "3431df93-2d49-48e1-9404-1bce97e3dc4f",
   "metadata": {},
   "outputs": [],
   "source": []
  },
  {
   "cell_type": "code",
   "execution_count": null,
   "id": "eb369f15-5433-4cb6-89b8-48347f0efdef",
   "metadata": {},
   "outputs": [],
   "source": [
    "# calculate the mean rx1day value from the 20 years for the global warming level (GWL)\n",
    "ds = ds.sel(time = slice(start, end))\n",
    "da_mean = ds[\"pr\"].mean(dim=\"time\")\n",
    "da_mean.plot()"
   ]
  },
  {
   "cell_type": "code",
   "execution_count": null,
   "id": "47a656b7-eed9-4d66-bf70-a6eb2b304f90",
   "metadata": {},
   "outputs": [],
   "source": []
  }
 ],
 "metadata": {
  "kernelspec": {
   "display_name": "Python [conda env:analysis3]",
   "language": "python",
   "name": "conda-env-analysis3-py"
  },
  "language_info": {
   "codemirror_mode": {
    "name": "ipython",
    "version": 3
   },
   "file_extension": ".py",
   "mimetype": "text/x-python",
   "name": "python",
   "nbconvert_exporter": "python",
   "pygments_lexer": "ipython3",
   "version": "3.10.14"
  }
 },
 "nbformat": 4,
 "nbformat_minor": 5
}
