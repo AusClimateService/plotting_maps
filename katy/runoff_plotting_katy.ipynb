{
 "cells": [
  {
   "cell_type": "code",
   "execution_count": null,
   "id": "9008765b-d511-4a5c-bd22-a430bbcaa8d9",
   "metadata": {},
   "outputs": [],
   "source": [
    "cd /g/data/mn51/users/gt3409/plotting_maps/"
   ]
  },
  {
   "cell_type": "code",
   "execution_count": null,
   "id": "0d7736d4-b0e9-4d5f-83ab-18ef1d5723fc",
   "metadata": {},
   "outputs": [],
   "source": [
    "from acs_plotting_maps import plot_acs_hazard, regions_dict, cmap_dict, tick_dict\n",
    "import xarray as xr\n",
    "import numpy as np\n",
    "import pandas as pd\n",
    "import matplotlib.pyplot as plt\n",
    "import cartopy.crs as ccrs\n",
    "from matplotlib import colors, cm\n"
   ]
  },
  {
   "cell_type": "code",
   "execution_count": null,
   "id": "e3d749c5-6e6e-487a-b03e-24b857eee349",
   "metadata": {},
   "outputs": [],
   "source": [
    "\"\"\"Hi Gen,\n",
    "\n",
    "I hope you’re doing well!\n",
    "\n",
    "Thanks so much for offering to help with reproducing the maps using your fantastic scripts. \n",
    "As you might have seen, the files are in the \"Flood directory\" (/g/data/ia39/ncra/flood).\n",
    "I’ve already put together some example plots for the Max 1-day runoff indicator (attached for reference).\n",
    "I had a chat with @Cass (cc'd here 😊) and it seems that at this stage,\n",
    " we need to reproduce the following plots to be consistent with other hazards:\n",
    "\n",
    "- Max 1-day runoff (actual values in mm) for GWLs 1.2, 1.5, 2, and 3 at the 10th, 50th, and 90th percentiles \n",
    "(data is here: /g/data/ia39/ncra/flood/Runoff_Max1D/runoff_max1day_ens _perc).\n",
    " - Max 1-day runoff (percentage change relative to 1.2 GWL) for GWLs 1.5, 2, and 3 at the 10th, 50th, and 90th percentiles\n",
    "(data is here: /g/data/ia39/ncra/flood/Runoff_Max1D/runoff_max1day_ens_change_perc).\n",
    "\n",
    "Please send the maps to Cass, she’ll be putting them up on SharePoint for us. (Thanks @Cass)\n",
    "Could I also get a copy of the notebook personalised for the flood maps? It would be incredibly helpful. 😉\n",
    "If you have any questions, please let me know by tomorrow noon—I’ll be on leave until Wednesday next week (7th August).\n",
    "Thanks a bunch for your help! 😊\n",
    "Cheers,\n",
    "Katy\"\"\""
   ]
  },
  {
   "cell_type": "code",
   "execution_count": null,
   "id": "84b6daa2-4160-49fa-be41-806de4414010",
   "metadata": {},
   "outputs": [],
   "source": [
    "outdir = \"/g/data/mn51/users/gt3409/plotting_maps/katy\""
   ]
  },
  {
   "cell_type": "code",
   "execution_count": null,
   "id": "c0845469-e2fb-4ac3-ac0f-d4f9e13e8e81",
   "metadata": {},
   "outputs": [],
   "source": [
    "# outdir = \"/g/data/ia39/ncra/flood/Runoff_Max1D\""
   ]
  },
  {
   "cell_type": "code",
   "execution_count": null,
   "id": "96189025-50cf-4bbc-bc03-2afda40b1151",
   "metadata": {},
   "outputs": [],
   "source": [
    "#  Max 1-day runoff (actual values in mm) for GWLs 1.2, 1.5, 2, and 3 at the 10th, 50th, and 90th percentiles \n",
    "# (data is here: /g/data/ia39/ncra/flood/Runoff_Max1D/runoff_max1day_ens_perc)\n",
    "for gwl in [\"1.2\", \"1.5\", \"2\", \"3\"]:\n",
    "    ds = xr.open_dataset(f\"/g/data/ia39/ncra/flood/Runoff_Max1D/runoff_max1day_ens_perc/max1day_runoff_ens_perc_{gwl}.nc\")\n",
    "    ds = ds.rename({\"longitude\":\"lon\", \"latitude\":\"lat\"})\n",
    "\n",
    "    for percentile in [10,50,90]:\n",
    "        da = ds.sel(quantile = (percentile/100))[f\"runoff_{gwl}\"]\n",
    "        \n",
    "        plot_acs_hazard(data =  da,\n",
    "                        regions = regions_dict['ncra_regions'],\n",
    "                        title = f\"Median annual maximum 1-day runoff\\nfor MME {percentile}th percentile\",\n",
    "                        date_range = f\"GWL{gwl}\",\n",
    "                        cmap = cmap_dict[\"pr_1\"],\n",
    "                        ticks = [0, 1, 2, 5, 10, 20, 30, 50, 75, 100, 150],\n",
    "                        cbar_label = \"Runoff\\n[mm/day]\",\n",
    "                        dataset_name = \"multi-model\",\n",
    "                        outfile = f\"{outdir}/runoff_max1day_ens_perc/Runoff-Max1D_AGCD-05i_MM{percentile}_ssp370_day_GWL{gwl}.png\",\n",
    "                        contour=False,\n",
    "                        contourf=False,\n",
    "                        cbar_extend=\"max\",\n",
    "                        watermark=\"\",\n",
    "                        )\n",
    "\n"
   ]
  },
  {
   "cell_type": "code",
   "execution_count": null,
   "id": "1463ef89-9df1-4116-bd23-dfe469f9290c",
   "metadata": {},
   "outputs": [],
   "source": [
    "# Max 1-day runoff (percentage change relative to 1.2 GWL) for GWLs 1.5, 2, and 3 at the 10th, 50th, and 90th percentiles\n",
    "# (data is here: /g/data/ia39/ncra/flood/Runoff_Max1D/runoff_max1day_ens_change_perc).\n",
    "for gwl in [\"1.5\", \"2\", \"3\"]:\n",
    "    ds = xr.open_dataset(f\"/g/data/ia39/ncra/flood/Runoff_Max1D/runoff_max1day_ens_change_perc/max1day_runoff_ens_change_perc_{gwl}.nc\")\n",
    "    ds = ds.rename({\"longitude\":\"lon\", \"latitude\":\"lat\"})\n",
    "\n",
    "    for percentile in [10,50,90]:\n",
    "        da = ds.sel(quantile = (percentile/100))[f\"runoff_{gwl}\"]\n",
    "        \n",
    "        plot_acs_hazard(data =  da,\n",
    "                        regions = regions_dict['ncra_regions'],\n",
    "                        title = f\"Change in median annual maximum \\n1-day runoff for MME {percentile}th percentile\",\n",
    "                        date_range = f\"GWL{gwl} - GWL1.2\",\n",
    "                        cmap = cmap_dict[\"pr_anom\"],\n",
    "                        ticks = np.arange(-100, 101,25),\n",
    "                        cbar_label = \"Change in runoff\\n[%]\",\n",
    "                        dataset_name = \"multi-model\",\n",
    "                        outfile = f\"{outdir}/runoff_max1day_ens_change_perc/Runoff-Max1D_AGCD-05i_MM{percentile}_ssp370_day_GWL{gwl}-GWL12-percent-change.png\",\n",
    "                        contour=False,\n",
    "                        contourf=False,\n",
    "                        cbar_extend=\"max\",\n",
    "                        watermark=\"\",\n",
    "                        )"
   ]
  },
  {
   "cell_type": "code",
   "execution_count": null,
   "id": "f273df52-1fe1-46f9-be89-fa917febde61",
   "metadata": {},
   "outputs": [],
   "source": []
  }
 ],
 "metadata": {
  "kernelspec": {
   "display_name": "Python [conda env:analysis3-24.04] *",
   "language": "python",
   "name": "conda-env-analysis3-24.04-py"
  },
  "language_info": {
   "codemirror_mode": {
    "name": "ipython",
    "version": 3
   },
   "file_extension": ".py",
   "mimetype": "text/x-python",
   "name": "python",
   "nbconvert_exporter": "python",
   "pygments_lexer": "ipython3",
   "version": "3.10.14"
  }
 },
 "nbformat": 4,
 "nbformat_minor": 5
}
