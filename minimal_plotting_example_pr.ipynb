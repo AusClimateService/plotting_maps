{
 "cells": [
  {
   "cell_type": "code",
   "execution_count": 1,
   "id": "039117b6-4139-4bb8-8238-e5b4be63cdc2",
   "metadata": {},
   "outputs": [],
   "source": [
    "# This notebook gives a minimal example of using acs_plotting_maps.py\n",
    "# code is available publically here https://github.com/AusClimateService/plotting_maps/blob/main/acs_plotting_maps.py\n",
    "# in your working directory (eg your home, scratch, or user directory in a project),\n",
    "# you can clone this repository to access this code \"$ git clone https://github.com/AusClimateService/plotting_maps.git plotting_maps\"\n",
    "# this code is designed to work with hh5 analysis3-24.04 virtual environment\n",
    "# ($ module use /g/data/hh5/public/modules)\n",
    "# ($ module load conda_concept/analysis3-24.04)\n"
   ]
  },
  {
   "cell_type": "code",
   "execution_count": 2,
   "id": "8363c68f-6e36-4e96-af9d-cb5ad23fa392",
   "metadata": {},
   "outputs": [],
   "source": [
    "# navigate to the directory\n",
    "# cd ~/plotting_maps"
   ]
  },
  {
   "cell_type": "code",
   "execution_count": 3,
   "id": "b15b9c32-7c94-410a-ad69-cc63a73cc526",
   "metadata": {},
   "outputs": [
    {
     "name": "stdout",
     "output_type": "stream",
     "text": [
      "/g/data/mn51/users/gt3409/plotting_maps\n"
     ]
    }
   ],
   "source": [
    "cd /g/data/mn51/users/gt3409/plotting_maps/\n"
   ]
  },
  {
   "cell_type": "code",
   "execution_count": 4,
   "id": "f2d23bba-1897-481a-8e38-6d0d20204d8c",
   "metadata": {},
   "outputs": [],
   "source": [
    "from acs_plotting_maps import *"
   ]
  },
  {
   "cell_type": "code",
   "execution_count": 5,
   "id": "ea5dfab7-f1f0-416c-987f-5d1cf328f8ee",
   "metadata": {},
   "outputs": [],
   "source": [
    "# load some rainfall data\n",
    "ds_pr = xr.open_dataset(\"/g/data/ia39/australian-climate-service/test-data/CORDEX-CMIP6/bias-adjustment-input/AGCD-05i/BOM/ACCESS-CM2/ssp370/r4i1p1f1/BARPA-R/v1-r1/day/pr/pr_AGCD-05i_ACCESS-CM2_ssp370_r4i1p1f1_BOM_BARPA-R_v1-r1_day_201501-201512.nc\")\n",
    "# Calculate a 2D mappable array\n",
    "# eg annual total rainfall\n",
    "da_pr_ann = ds_pr.sum(dim=\"time\").pr\n"
   ]
  },
  {
   "cell_type": "code",
   "execution_count": null,
   "id": "d68c490f-9239-4cc5-9917-c6644601f568",
   "metadata": {},
   "outputs": [],
   "source": [
    "# Annual cumulative Rainfall\n",
    "plot_aus_shapefiles(data = da_pr_ann,\n",
    "                    regions = regions_dict['aus_states_territories'],\n",
    "                    cmap = cmap_dict[\"pr\"],\n",
    "                    ticks = tick_dict['pr_annual'],\n",
    "                    cbar_label = \"annual rainfall [mm]\",\n",
    "                    cbar_extent = \"max\",\n",
    "                    title = \"Rainfall\",\n",
    "                    dataset_name = ds_pr.source_id,\n",
    "                    date_range = \"1 Jan 2015 to 31 Dec 2015\",\n",
    "                   );"
   ]
  },
  {
   "cell_type": "code",
   "execution_count": null,
   "id": "5cc738b4-4579-45bf-9888-b79e9e09240f",
   "metadata": {},
   "outputs": [],
   "source": []
  },
  {
   "cell_type": "code",
   "execution_count": null,
   "id": "9f0c988f-b5e2-4ceb-93f5-90e3edde8f28",
   "metadata": {},
   "outputs": [],
   "source": []
  },
  {
   "cell_type": "code",
   "execution_count": null,
   "id": "bde8eab8-4727-455e-8493-a74af8f4f156",
   "metadata": {},
   "outputs": [],
   "source": []
  },
  {
   "cell_type": "code",
   "execution_count": null,
   "id": "fe0bdc43-ee40-49dc-b7e1-40eb4dc8563a",
   "metadata": {},
   "outputs": [],
   "source": []
  },
  {
   "cell_type": "code",
   "execution_count": null,
   "id": "1c54586a-41da-47a1-b8dc-fa7e507a32e5",
   "metadata": {},
   "outputs": [],
   "source": []
  },
  {
   "cell_type": "code",
   "execution_count": null,
   "id": "39cae88d-3b3a-4652-bf8e-e1e414ed3cc9",
   "metadata": {},
   "outputs": [],
   "source": []
  },
  {
   "cell_type": "code",
   "execution_count": null,
   "id": "5379f3cb-c254-403d-b587-e51a7bba95b9",
   "metadata": {},
   "outputs": [],
   "source": []
  }
 ],
 "metadata": {
  "kernelspec": {
   "display_name": "Python [conda env:analysis3-24.04]",
   "language": "python",
   "name": "conda-env-analysis3-24.04-py"
  },
  "language_info": {
   "codemirror_mode": {
    "name": "ipython",
    "version": 3
   },
   "file_extension": ".py",
   "mimetype": "text/x-python",
   "name": "python",
   "nbconvert_exporter": "python",
   "pygments_lexer": "ipython3",
   "version": "3.10.14"
  }
 },
 "nbformat": 4,
 "nbformat_minor": 5
}
