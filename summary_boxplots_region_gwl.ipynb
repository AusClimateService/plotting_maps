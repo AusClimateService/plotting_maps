{
 "cells": [
  {
   "cell_type": "code",
   "execution_count": 1,
   "id": "0629d83b-dd10-40ac-877a-f8d7ec3be543",
   "metadata": {},
   "outputs": [
    {
     "name": "stdout",
     "output_type": "stream",
     "text": [
      "/g/data/mn51/users/gt3409/plotting_maps\n"
     ]
    }
   ],
   "source": [
    "cd /g/data/mn51/users/gt3409/plotting_maps/"
   ]
  },
  {
   "cell_type": "code",
   "execution_count": 2,
   "id": "b504cf24-7712-4b84-a477-9eb0c6056b09",
   "metadata": {},
   "outputs": [],
   "source": [
    "# import needed packages\n",
    "from acs_area_statistics import acs_regional_stats, get_regions\n",
    "\n",
    "regions = get_regions([\"ncra_regions\", \"australia\"])"
   ]
  },
  {
   "cell_type": "code",
   "execution_count": 3,
   "id": "d0290e1f-3e52-4de7-b334-a8ffdfc4610a",
   "metadata": {},
   "outputs": [],
   "source": [
    "import xarray as xr\n",
    "import geopandas as gpd\n",
    "import regionmask\n",
    "import matplotlib.pyplot as plt\n",
    "import numpy as np\n",
    "import pandas as pd\n",
    "from glob import glob"
   ]
  },
  {
   "cell_type": "code",
   "execution_count": 4,
   "id": "421129ad-4497-46ca-a834-be52171da98d",
   "metadata": {},
   "outputs": [],
   "source": [
    "# mask\n",
    "# this shows fractional mask\n",
    "mask_ncra = xr.open_dataset(\"/g/data/ia39/aus-ref-clim-data-nci/shapefiles/masks/AGCD-05i/mask-3D-frac-approx_ncra-regions.nc\")['mask']\n",
    "mask_aust = xr.open_dataset(\"/g/data/ia39/aus-ref-clim-data-nci/shapefiles/masks/AGCD-05i/mask-3D-frac-approx_australia.nc\")['mask']\n",
    "\n",
    "mask = xr.concat([mask_ncra, mask_aust], dim=\"region\")\n",
    "mask = mask.assign_coords({\"region\":np.arange(0,len(mask[\"region\"]))})\n"
   ]
  },
  {
   "cell_type": "code",
   "execution_count": 5,
   "id": "7b84725a-7ac8-4285-8ed8-51b4471f88dc",
   "metadata": {},
   "outputs": [],
   "source": [
    "var=\"TXx\"\n",
    "\n",
    "gwl_list =[]\n",
    "\n",
    "gwls=[\"GWL12\", \"GWL15\", \"GWL20\", \"GWL30\"]\n",
    "for gwl in gwls:\n",
    "\n",
    "    filelist = glob(f\"/g/data/ia39/ncra/heat/data/{var}/bias-corrected/individual_models/GWL-average/{var}_AGCD-05i_*{gwl}*.nc\")\n",
    "    \n",
    "    ds_gwl = xr.open_mfdataset(filelist, \n",
    "                               preprocess= lambda ds:ds.expand_dims({\"gwl\":[f\"{gwl}\"]}),\n",
    "                               use_cftime=True,\n",
    "                               combine=\"nested\",\n",
    "                               concat_dim=\"model\",\n",
    "                               combine_attrs= \"drop_conflicts\").load()\n",
    "    gwl_list.append(ds_gwl)\n",
    "\n",
    "ds = xr.merge(gwl_list)\n",
    "\n",
    "# calculate the region average\n",
    "dims = (\"lat\", \"lon\",)\n",
    "how = [\"mean\",]\n",
    "outfile=\"out.csv\"\n",
    "\n",
    "da_summary = acs_regional_stats(ds=ds, var=var, mask = mask, dims=dims, how = how, outfile=outfile)\n",
    "da_summary\n",
    "\n",
    "#find the min, mdeian and max of ensemble members\n",
    "ds_min_max = xr.merge([da_summary.min(dim=[\"model\"]).rename({f\"{var}_mean\":\"min\"}),\n",
    "                        da_summary.median(dim=[\"model\"]).rename({f\"{var}_mean\":\"median\"}),\n",
    "                        da_summary.max(dim=[\"model\"]).rename({f\"{var}_mean\":\"max\"}),])\n",
    "\n",
    "\n",
    "# save to csv per region\n",
    "for i, abbrev in enumerate(mask.abbrevs.values):\n",
    "    df = ds_min_max.sel(region=i).to_dataframe()[[\"abbrevs\", \"names\", \"min\", \"median\",\"max\"]]\n",
    "    df.to_csv(f\"{var}_{abbrev}_gwl-average.csv\")"
   ]
  },
  {
   "cell_type": "code",
   "execution_count": 6,
   "id": "ee55c4b2-c1ee-47d5-b968-4170858d41ae",
   "metadata": {},
   "outputs": [
    {
     "data": {
      "text/plain": [
       "Text(0.5, 1.0, 'TXx')"
      ]
     },
     "execution_count": 6,
     "metadata": {},
     "output_type": "execute_result"
    },
    {
     "data": {
      "image/png": "[encoded data removed]",
      "text/plain": [
       "<Figure size 640x480 with 1 Axes>"
      ]
     },
     "metadata": {},
     "output_type": "display_data"
    }
   ],
   "source": [
    "# make a plot from the csv\n",
    "\n",
    "df = pd.read_csv(f\"{var}_{abbrev}_gwl-average.csv\", index_col=\"gwl\")\n",
    "\n",
    "gwls = [\"GWL12\", \"GWL15\", \"GWL20\", \"GWL30\"]\n",
    "for i, gwl in enumerate(gwls):\n",
    "\n",
    "    ens_min, ens_median, ens_max = df.loc[[gwl]][[\"min\", \"median\", \"max\"]].values[0]\n",
    "    plt.bar(x=i+1, height=ens_max - ens_min, width=0.5, bottom =  ens_min, color=\"grey\", label=gwl)\n",
    "    plt.scatter(x=i+1, y=ens_median, c=\"k\")\n",
    "\n",
    "\n",
    "plt.xlim(0.5, len(gwls)+0.5 )\n",
    "plt.xticks(np.arange(1,len(gwls)+1), labels=gwls)\n",
    "plt.title(var)"
   ]
  },
  {
   "cell_type": "code",
   "execution_count": null,
   "id": "e1f4b453-29b9-4e55-8712-8aae75c596fe",
   "metadata": {},
   "outputs": [],
   "source": []
  },
  {
   "cell_type": "code",
   "execution_count": 7,
   "id": "737c4cf2-a4be-48f1-bbd1-08ae27c02392",
   "metadata": {},
   "outputs": [],
   "source": [
    "# anomalies\n",
    "var=\"TXx\"\n",
    "\n",
    "gwl_list =[]\n",
    "\n",
    "gwls=[\"GWL15\", \"GWL20\", \"GWL30\"]\n",
    "for gwl in gwls:\n",
    "\n",
    "    filelist = glob(f\"/g/data/ia39/ncra/heat/data/{var}/bias-corrected/individual_models/GWL-change/{var}_AGCD-05i_*{gwl}*.nc\")\n",
    "    \n",
    "    ds_gwl = xr.open_mfdataset(filelist, \n",
    "                               preprocess= lambda ds:ds.expand_dims({\"gwl\":[f\"{gwl}\"]}),\n",
    "                               use_cftime=True,\n",
    "                               combine=\"nested\",\n",
    "                               concat_dim=\"model\",\n",
    "                               combine_attrs= \"drop_conflicts\").load()\n",
    "    gwl_list.append(ds_gwl)\n",
    "\n",
    "ds = xr.merge(gwl_list,)\n",
    "\n",
    "\n",
    "# calculate the region average\n",
    "dims = (\"lat\", \"lon\",)\n",
    "how = [\"mean\",]\n",
    "outfile=\"out.csv\"\n",
    "\n",
    "da_summary = acs_regional_stats(ds=ds, var=var, mask = mask, dims=dims, how = how, outfile=outfile)\n",
    "da_summary\n",
    "\n",
    "#find the min, mdeian and max of ensemble members\n",
    "ds_min_max = xr.merge([da_summary.min(dim=[\"model\"]).rename({f\"{var}_mean\":\"min\"}),\n",
    "                        da_summary.median(dim=[\"model\"]).rename({f\"{var}_mean\":\"median\"}),\n",
    "                        da_summary.max(dim=[\"model\"]).rename({f\"{var}_mean\":\"max\"}),])\n",
    "\n",
    "ds_min_max.to_dataframe(dim_order=[\"region\", \"gwl\"])\n",
    "\n",
    "\n",
    "\n",
    "# save to csv per region\n",
    "for i, abbrev in enumerate(mask.abbrevs.values):\n",
    "    df = ds_min_max.sel(region=i).to_dataframe()[[\"abbrevs\", \"names\", \"min\", \"median\",\"max\"]]\n",
    "    df.to_csv(f\"{var}_{abbrev}_gwl-change.csv\")\n"
   ]
  },
  {
   "cell_type": "code",
   "execution_count": 8,
   "id": "3e28069c-163b-4361-98d4-8b5adb209674",
   "metadata": {},
   "outputs": [
    {
     "data": {
      "text/plain": [
       "Text(0.5, 1.0, 'TXx_AUS_gwl-change')"
      ]
     },
     "execution_count": 8,
     "metadata": {},
     "output_type": "execute_result"
    },
    {
     "data": {
      "image/png": "[encoded data removed]",
      "text/plain": [
       "<Figure size 640x480 with 1 Axes>"
      ]
     },
     "metadata": {},
     "output_type": "display_data"
    }
   ],
   "source": [
    "# make a plot from the csv\n",
    "\n",
    "df = pd.read_csv(f\"{var}_{abbrev}_gwl-change.csv\", index_col=\"gwl\")\n",
    "\n",
    "gwls = [\"GWL15\", \"GWL20\", \"GWL30\"]\n",
    "for i, gwl in enumerate(gwls):\n",
    "\n",
    "    ens_min, ens_median, ens_max = df.loc[[gwl]][[\"min\", \"median\", \"max\"]].values[0]\n",
    "    plt.bar(x=i+1, height=ens_max - ens_min, width=0.5, bottom =  ens_min, color=\"grey\", label=gwl)\n",
    "    plt.scatter(x=i+1, y=ens_median, c=\"k\")\n",
    "\n",
    "\n",
    "plt.xlim(0.5, len(gwls)+0.5 )\n",
    "plt.xticks(np.arange(1,len(gwls)+1), labels=gwls)\n",
    "plt.title(f\"{var}_{abbrev}_gwl-change\")"
   ]
  },
  {
   "cell_type": "code",
   "execution_count": null,
   "id": "f6a23601-fad3-4db5-8e56-268b4cf22f02",
   "metadata": {},
   "outputs": [],
   "source": []
  },
  {
   "cell_type": "code",
   "execution_count": null,
   "id": "666f2807-4a68-4316-8bd3-cd4207ab7756",
   "metadata": {},
   "outputs": [],
   "source": []
  }
 ],
 "metadata": {
  "kernelspec": {
   "display_name": "Python [conda env:analysis3-24.04] *",
   "language": "python",
   "name": "conda-env-analysis3-24.04-py"
  },
  "language_info": {
   "codemirror_mode": {
    "name": "ipython",
    "version": 3
   },
   "file_extension": ".py",
   "mimetype": "text/x-python",
   "name": "python",
   "nbconvert_exporter": "python",
   "pygments_lexer": "ipython3",
   "version": "3.10.14"
  }
 },
 "nbformat": 4,
 "nbformat_minor": 5
}
