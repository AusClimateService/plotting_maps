{
 "cells": [
  {
   "cell_type": "code",
   "execution_count": 5,
   "id": "36bf73f7-d692-42a2-ad46-7ef685e6c670",
   "metadata": {},
   "outputs": [],
   "source": [
    "from matplotlib.colors import ListedColormap, BoundaryNorm, LinearSegmentedColormap,rgb2hex\n",
    "from matplotlib import image, cm\n",
    "import numpy as np\n"
   ]
  },
  {
   "cell_type": "code",
   "execution_count": null,
   "id": "43486b09-5592-4fff-8e56-5f6e123aa60a",
   "metadata": {},
   "outputs": [],
   "source": []
  },
  {
   "cell_type": "code",
   "execution_count": 2,
   "id": "080bad02-a4cc-43e9-897e-a4f2aca493d2",
   "metadata": {},
   "outputs": [],
   "source": [
    "import matplotlib as mpl\n"
   ]
  },
  {
   "cell_type": "code",
   "execution_count": 7,
   "id": "47a89fbc-ccf7-4706-95c0-015667fc973e",
   "metadata": {},
   "outputs": [
    {
     "data": {
      "image/png": "[encoded data removed]",
      "text/html": [
       "<div style=\"vertical-align: middle;\"><strong>BuGnPi</strong> </div><div class=\"cmap\"><img alt=\"BuGnPi colormap\" title=\"BuGnPi\" style=\"border: 1px solid #555;\" src=\"data:image/png;base64,iVBORw0KGgoAAAANSUhEUgAAAgAAAABACAYAAABsv8+/AAAAFXRFWHRUaXRsZQBCdUduUGkgY29sb3JtYXCbAQPlAAAAG3RFWHREZXNjcmlwdGlvbgBCdUduUGkgY29sb3JtYXDSlhsBAAAAMHRFWHRBdXRob3IATWF0cGxvdGxpYiB2My45LjEsIGh0dHBzOi8vbWF0cGxvdGxpYi5vcmdUdHMAAAAAMnRFWHRTb2Z0d2FyZQBNYXRwbG90bGliIHYzLjkuMSwgaHR0cHM6Ly9tYXRwbG90bGliLm9yZ3rS7CcAAAJUSURBVHic7dZBctNAEIbRllLkPByA+58IiiS2JRaWnLhlxfaGzf/eZmpa45GoAuob6tfPuaqqhqFur+N5Hft+vD532d85v3vPk+/ZmQ/L74b2vj4f13X5/djnbR0ePPfsvf3c5vvu3Peys39Z/tz7z/vvh2+f/6/3rH/Oy3xo88va7uvzdn4cxnbuufn2u9p8971tX+u5uno+1vL3tPr8bGjntvOd+6bpUFU1TvPHeZ0+qqqG07LO78s9f17P6+/Xr/uqvz+qqmqevy6f+2mdzzfntS6bc3W978+n6/d93tfeu5m377t3X3vv3fv67/a+u3/fdH3f7vlH7znd+Z5H56fbzzfr8l3T/Nj+sk7T9+fa82fv250/eq7NT/3cznxzrj9/cD2eTrfn637v+TI/HI/X6zo/HKqq6v39/O/74+3tvK77ZV3/3wAAgggAAAgkAAAgkAAAgEACAAACCQAACCQAACCQAACAQAIAAAIJAAAIJAAAIJAAAIBAAgAAAgkAAAgkAAAgkAAAgEACAAACCQAACCQAACCQAACAQAIAAAIJAAAIJAAAIJAAAIBAAgAAAgkAAAgkAAAgkAAAgEACAAACCQAACCQAACCQAACAQAIAAAIJAAAIJAAAIJAAAIBAAgAAAgkAAAgkAAAgkAAAgEACAAACCQAACCQAACCQAACAQAIAAAIJAAAIJAAAIJAAAIBAAgAAAgkAAAgkAAAgkAAAgEACAAACCQAACCQAACCQAACAQAIAAAIJAAAIJAAAIJAAAIBAAgAAAgkAAAgkAAAg0D/5+mWssUxZjwAAAABJRU5ErkJggg==\"></div><div style=\"vertical-align: middle; max-width: 514px; display: flex; justify-content: space-between;\"><div style=\"float: left;\"><div title=\"#003c30ff\" style=\"display: inline-block; width: 1em; height: 1em; margin: 0; vertical-align: middle; border: 1px solid #555; background-color: #003c30ff;\"></div> under</div><div style=\"margin: 0 auto; display: inline-block;\">bad <div title=\"#00000000\" style=\"display: inline-block; width: 1em; height: 1em; margin: 0; vertical-align: middle; border: 1px solid #555; background-color: #00000000;\"></div></div><div style=\"float: right;\">over <div title=\"#1e0000ff\" style=\"display: inline-block; width: 1em; height: 1em; margin: 0; vertical-align: middle; border: 1px solid #555; background-color: #1e0000ff;\"></div></div>"
      ],
      "text/plain": [
       "<matplotlib.colors.LinearSegmentedColormap at 0x14ce05e321d0>"
      ]
     },
     "execution_count": 7,
     "metadata": {},
     "output_type": "execute_result"
    }
   ],
   "source": [
    "cmap_BuGnPi = LinearSegmentedColormap.from_list('BuGnPi', np.vstack((cm.BrBG(np.linspace(0.55, 1, 30)[::-1]),[0.9,0.9,0.9,0.9], cm.pink_r(np.linspace(0.25, 1, 30)) )))\n",
    "cmap_BuGnPi"
   ]
  },
  {
   "cell_type": "code",
   "execution_count": 8,
   "id": "767531b8-e0cd-4b53-b63f-38bf9f68cd8a",
   "metadata": {},
   "outputs": [
    {
     "data": {
      "image/png": "[encoded data removed]",
      "text/html": [
       "<div style=\"vertical-align: middle;\"><strong>name</strong> </div><div class=\"cmap\"><img alt=\"name colormap\" title=\"name\" style=\"border: 1px solid #555;\" src=\"data:image/png;base64,iVBORw0KGgoAAAANSUhEUgAAAgAAAABACAYAAABsv8+/AAAAE3RFWHRUaXRsZQBuYW1lIGNvbG9ybWFwPbutrgAAABl0RVh0RGVzY3JpcHRpb24AbmFtZSBjb2xvcm1hcLYJPTYAAAAwdEVYdEF1dGhvcgBNYXRwbG90bGliIHYzLjkuMSwgaHR0cHM6Ly9tYXRwbG90bGliLm9yZ1R0cwAAAAAydEVYdFNvZnR3YXJlAE1hdHBsb3RsaWIgdjMuOS4xLCBodHRwczovL21hdHBsb3RsaWIub3JnetLsJwAAAeJJREFUeJzt1k1ugzAURtFnuqEuoPvfFdBBoFJMET9JO/nOGRQZbHA8qG6rr8+5qqq1VlVVbRier8v9YXN/HT+vG1o3r3u+rhv655t16/v29vW8/mh/w8G+L+/r4Pnlc7t7ru3ivtbz6J5/rPvtrv393Xl1ct7Z992cd3b9/e/+fl6n31fv/b2vznv8rappqqqqeZ5vjedlXP14Wsbz34znZbz57qvj09/93/HhuVz8vdMyHrtrf/9nPJ6cd/X+eDRvvPWdd+97M29n37ffd/lcXvvu478ZABBFAABAIAEAAIEEAAAEEgAAEEgAAEAgAQAAgQQAAAQSAAAQSAAAQCABAACBBAAABBIAABBIAABAIAEAAIEEAAAEEgAAEEgAAEAgAQAAgQQAAAQSAAAQSAAAQCABAACBBAAABBIAABBIAABAIAEAAIEEAAAEEgAAEEgAAEAgAQAAgQQAAAQSAAAQSAAAQCABAACBBAAABBIAABBIAABAIAEAAIEEAAAEEgAAEEgAAEAgAQAAgQQAAAQSAAAQSAAAQCABAACBBAAABBIAABBIAABAIAEAAIEEAAAEEgAAEEgAAEAgAQAAgQQAAAQSAAAQSAAAQCABAACBBAAABBIAABBIAABAIAEAAIG+AbVhYKygUL/IAAAAAElFTkSuQmCC\"></div><div style=\"vertical-align: middle; max-width: 514px; display: flex; justify-content: space-between;\"><div style=\"float: left;\"><div title=\"#003c30ff\" style=\"display: inline-block; width: 1em; height: 1em; margin: 0; vertical-align: middle; border: 1px solid #555; background-color: #003c30ff;\"></div> under</div><div style=\"margin: 0 auto; display: inline-block;\">bad <div title=\"#00000000\" style=\"display: inline-block; width: 1em; height: 1em; margin: 0; vertical-align: middle; border: 1px solid #555; background-color: #00000000;\"></div></div><div style=\"float: right;\">over <div title=\"#1e0000ff\" style=\"display: inline-block; width: 1em; height: 1em; margin: 0; vertical-align: middle; border: 1px solid #555; background-color: #1e0000ff;\"></div></div>"
      ],
      "text/plain": [
       "<matplotlib.colors.LinearSegmentedColormap at 0x14ce05e32da0>"
      ]
     },
     "execution_count": 8,
     "metadata": {},
     "output_type": "execute_result"
    }
   ],
   "source": [
    "LinearSegmentedColormap.from_list(\"name\",[rgb2hex(mpl.colormaps.get_cmap(cmap_BuGnPi)(i)) for i in np.linspace(0,1,5)])"
   ]
  },
  {
   "cell_type": "code",
   "execution_count": 11,
   "id": "8d138fc8-10ce-4f69-ad7e-4f645e49ddb0",
   "metadata": {},
   "outputs": [
    {
     "data": {
      "image/png": "[encoded data removed]",
      "text/html": [
       "<div style=\"vertical-align: middle;\"><strong>name</strong> </div><div class=\"cmap\"><img alt=\"name colormap\" title=\"name\" style=\"border: 1px solid #555;\" src=\"data:image/png;base64,iVBORw0KGgoAAAANSUhEUgAAAgAAAABACAYAAABsv8+/AAAAE3RFWHRUaXRsZQBuYW1lIGNvbG9ybWFwPbutrgAAABl0RVh0RGVzY3JpcHRpb24AbmFtZSBjb2xvcm1hcLYJPTYAAAAwdEVYdEF1dGhvcgBNYXRwbG90bGliIHYzLjkuMSwgaHR0cHM6Ly9tYXRwbG90bGliLm9yZ1R0cwAAAAAydEVYdFNvZnR3YXJlAE1hdHBsb3RsaWIgdjMuOS4xLCBodHRwczovL21hdHBsb3RsaWIub3JnetLsJwAAAgNJREFUeJzt1kt2gjAAhtEEN9QFdP+rUuigieeIIFGc/fdOaJ7QDnq+Wn5/llJKKbX+P6aptB/ao823cZkO5o/uGb1/fc/o/Z9+55fvn9o9Uxtf+vzueHB/fb1//z11e72+uX/0/vrh9+yM7/OltPvr5vhS2nxt8/dxX//2+e39l53z/X2XvfOH31FW69u/x+h3tOVSlrk95sfxsrxcL239+dzR+ut77+vz+r7t9fH3tvG87Nx7br2/d+7f3ffd9y9vzc9v7l9Wv/f5e7bn5+H9r/8Oo/f0v+etP2+3h/F1NV6vP41X89fRc2ffuz7/4bmz392f/f8AABBEAABAIAEAAIEEAAAEEgAAEEgAAEAgAQAAgQQAAAQSAAAQSAAAQCABAACBBAAABBIAABBIAABAIAEAAIEEAAAEEgAAEEgAAEAgAQAAgQQAAAQSAAAQSAAAQCABAACBBAAABBIAABBIAABAIAEAAIEEAAAEEgAAEEgAAEAgAQAAgQQAAAQSAAAQSAAAQCABAACBBAAABBIAABBIAABAIAEAAIEEAAAEEgAAEEgAAEAgAQAAgQQAAAQSAAAQSAAAQCABAACBBAAABBIAABBIAABAIAEAAIEEAAAEEgAAEEgAAEAgAQAAgQQAAAQSAAAQSAAAQCABAACBBAAABBIAABBIAABAIAEAAIH+AAyAZ6w8NV7MAAAAAElFTkSuQmCC\"></div><div style=\"vertical-align: middle; max-width: 514px; display: flex; justify-content: space-between;\"><div style=\"float: left;\"><div title=\"#003c30ff\" style=\"display: inline-block; width: 1em; height: 1em; margin: 0; vertical-align: middle; border: 1px solid #555; background-color: #003c30ff;\"></div> under</div><div style=\"margin: 0 auto; display: inline-block;\">bad <div title=\"#00000000\" style=\"display: inline-block; width: 1em; height: 1em; margin: 0; vertical-align: middle; border: 1px solid #555; background-color: #00000000;\"></div></div><div style=\"float: right;\">over <div title=\"#1e0000ff\" style=\"display: inline-block; width: 1em; height: 1em; margin: 0; vertical-align: middle; border: 1px solid #555; background-color: #1e0000ff;\"></div></div>"
      ],
      "text/plain": [
       "<matplotlib.colors.LinearSegmentedColormap at 0x14ce058d2c50>"
      ]
     },
     "execution_count": 11,
     "metadata": {},
     "output_type": "execute_result"
    }
   ],
   "source": [
    "LinearSegmentedColormap.from_list(\"name\",[rgb2hex(mpl.colormaps.get_cmap(cmap_BuGnPi)(i)) for i in np.linspace(0,1,7)])"
   ]
  },
  {
   "cell_type": "code",
   "execution_count": 12,
   "id": "7dbc7d4b-0a75-42c6-8751-12b7e8521a28",
   "metadata": {},
   "outputs": [
    {
     "data": {
      "image/png": "[encoded data removed]",
      "text/html": [
       "<div style=\"vertical-align: middle;\"><strong>name</strong> </div><div class=\"cmap\"><img alt=\"name colormap\" title=\"name\" style=\"border: 1px solid #555;\" src=\"data:image/png;base64,iVBORw0KGgoAAAANSUhEUgAAAgAAAABACAYAAABsv8+/AAAAE3RFWHRUaXRsZQBuYW1lIGNvbG9ybWFwPbutrgAAABl0RVh0RGVzY3JpcHRpb24AbmFtZSBjb2xvcm1hcLYJPTYAAAAwdEVYdEF1dGhvcgBNYXRwbG90bGliIHYzLjkuMSwgaHR0cHM6Ly9tYXRwbG90bGliLm9yZ1R0cwAAAAAydEVYdFNvZnR3YXJlAE1hdHBsb3RsaWIgdjMuOS4xLCBodHRwczovL21hdHBsb3RsaWIub3JnetLsJwAAAjRJREFUeJzt1kFym0AQhtEefKEcIPc/lQVZCLDVEgY73v3vbagZmoGoktQ36u+fpaqqxqiqqpqm+rwe+3q9TuNhPdp8tfnR5vf76/7o++2ccfDej/uv37uff/H7p+26nje1/bc+N7W58Vvzr9/fn7s8v51/8Ofq7+9z2/qtf+fV/bb+6bln3/Xtc/vvUfV43eb3/XV+tPXBc9Phc1+ft7/v6D1P51/8voP9Ufd//rXM98t6rXl+vX+0Ppn/2L9967mnc+aL37PP376em5eHay1t3e5/7Nd/Pn9y7vLT55eD5+vl3Lxd99+n77f7T/uP89vv2/e39X7/4Jylfc/z+dt6Pnm+nfP0Hffr++3+9+PWru/r+fu63z+Zvzr3a+du63X+7Nxtbvt/AAAIIgAAIJAAAIBAAgAAAgkAAAgkAAAgkAAAgEACAAACCQAACCQAACCQAACAQAIAAAIJAAAIJAAAIJAAAIBAAgAAAgkAAAgkAAAgkAAAgEACAAACCQAACCQAACCQAACAQAIAAAIJAAAIJAAAIJAAAIBAAgAAAgkAAAgkAAAgkAAAgEACAAACCQAACCQAACCQAACAQAIAAAIJAAAIJAAAIJAAAIBAAgAAAgkAAAgkAAAgkAAAgEACAAACCQAACCQAACCQAACAQAIAAAIJAAAIJAAAIJAAAIBAAgAAAgkAAAgkAAAgkAAAgEACAAACCQAACCQAACCQAACAQAIAAAIJAAAIJAAAIJAAAIBA/wAcB16sBfWdGwAAAABJRU5ErkJggg==\"></div><div style=\"vertical-align: middle; max-width: 514px; display: flex; justify-content: space-between;\"><div style=\"float: left;\"><div title=\"#003c30ff\" style=\"display: inline-block; width: 1em; height: 1em; margin: 0; vertical-align: middle; border: 1px solid #555; background-color: #003c30ff;\"></div> under</div><div style=\"margin: 0 auto; display: inline-block;\">bad <div title=\"#00000000\" style=\"display: inline-block; width: 1em; height: 1em; margin: 0; vertical-align: middle; border: 1px solid #555; background-color: #00000000;\"></div></div><div style=\"float: right;\">over <div title=\"#1e0000ff\" style=\"display: inline-block; width: 1em; height: 1em; margin: 0; vertical-align: middle; border: 1px solid #555; background-color: #1e0000ff;\"></div></div>"
      ],
      "text/plain": [
       "<matplotlib.colors.LinearSegmentedColormap at 0x14cddd743a30>"
      ]
     },
     "execution_count": 12,
     "metadata": {},
     "output_type": "execute_result"
    }
   ],
   "source": [
    "LinearSegmentedColormap.from_list(\"name\",[rgb2hex(mpl.colormaps.get_cmap(cmap_BuGnPi)(i)) for i in np.linspace(0,1,9)])"
   ]
  },
  {
   "cell_type": "code",
   "execution_count": 13,
   "id": "084f7b9e-2c53-4e80-b544-e5be4715c088",
   "metadata": {},
   "outputs": [
    {
     "data": {
      "image/png": "[encoded data removed]",
      "text/html": [
       "<div style=\"vertical-align: middle;\"><strong>name</strong> </div><div class=\"cmap\"><img alt=\"name colormap\" title=\"name\" style=\"border: 1px solid #555;\" src=\"data:image/png;base64,iVBORw0KGgoAAAANSUhEUgAAAgAAAABACAYAAABsv8+/AAAAE3RFWHRUaXRsZQBuYW1lIGNvbG9ybWFwPbutrgAAABl0RVh0RGVzY3JpcHRpb24AbmFtZSBjb2xvcm1hcLYJPTYAAAAwdEVYdEF1dGhvcgBNYXRwbG90bGliIHYzLjkuMSwgaHR0cHM6Ly9tYXRwbG90bGliLm9yZ1R0cwAAAAAydEVYdFNvZnR3YXJlAE1hdHBsb3RsaWIgdjMuOS4xLCBodHRwczovL21hdHBsb3RsaWIub3JnetLsJwAAAkZJREFUeJzt1kFy4yAQBVCQL5QDzP0vZVvKwkgJkojs2f73NlQ3DZQTJ/Vr+fe1lFJKqbW81um1Thf1Oj9NF/3B3HTRH9bn99a2Tq1fd/3azk9TPe1v59f9Q3+dr109XN+c2993u5i/vXnvaO62X2+D/tU6PNferef7689369eL/f359rm2z3eop4/2j3Ojd0b3fvbe9r0o6/esdPXPfunquu3/PV/L/FqXe6vbujz6flunct7f5kvfL8uzra9/G8tc+nrrL61fun6Zl9/jJ/1to7t/NPfzzqfzpa/378/9/Nre98vFvYf7L84P5wfvL8+1nvv95+DeQX+dX8/Pu9/n3O4/9Je/50dzV/cf1jf39+899+ferJ9X769z/7m+e/5+f/3d3R+P0/pxsT+qH61e/28AAEEEAAAIJAAAQCABAAACCQAAEEgAAIBAAgAABBIAACCQAAAAgQQAAAgkAABAIAEAAAIJAAAQSAAAgEACAAAEEgAAIJAAAACBBAAACCQAAEAgAQAAAgkAABBIAACAQAIAAAQSAAAgkAAAAIEEAAAIJAAAQCABAAACCQAAEEgAAIBAAgAABBIAACCQAAAAgQQAAAgkAABAIAEAAAIJAAAQSAAAgEACAAAEEgAAIJAAAACBBAAACCQAAEAgAQAAAgkAABBIAACAQAIAAAQSAAAgkAAAAIEEAAAIJAAAQCABAAACCQAAEEgAAIBAAgAABBIAACCQAAAAgQQAAAgkAABAIAEAAAIJAAAQSAAAgEACAAAE+gY9yGOsPgRsVgAAAABJRU5ErkJggg==\"></div><div style=\"vertical-align: middle; max-width: 514px; display: flex; justify-content: space-between;\"><div style=\"float: left;\"><div title=\"#003c30ff\" style=\"display: inline-block; width: 1em; height: 1em; margin: 0; vertical-align: middle; border: 1px solid #555; background-color: #003c30ff;\"></div> under</div><div style=\"margin: 0 auto; display: inline-block;\">bad <div title=\"#00000000\" style=\"display: inline-block; width: 1em; height: 1em; margin: 0; vertical-align: middle; border: 1px solid #555; background-color: #00000000;\"></div></div><div style=\"float: right;\">over <div title=\"#1e0000ff\" style=\"display: inline-block; width: 1em; height: 1em; margin: 0; vertical-align: middle; border: 1px solid #555; background-color: #1e0000ff;\"></div></div>"
      ],
      "text/plain": [
       "<matplotlib.colors.LinearSegmentedColormap at 0x14cddd743f40>"
      ]
     },
     "execution_count": 13,
     "metadata": {},
     "output_type": "execute_result"
    }
   ],
   "source": [
    "LinearSegmentedColormap.from_list(\"name\",[rgb2hex(mpl.colormaps.get_cmap(cmap_BuGnPi)(i)) for i in np.linspace(0,1,22)])"
   ]
  },
  {
   "cell_type": "code",
   "execution_count": 14,
   "id": "9c601e5f-22de-496e-b443-2b5ca906dbc3",
   "metadata": {},
   "outputs": [
    {
     "data": {
      "image/png": "[encoded data removed]",
      "text/html": [
       "<div style=\"vertical-align: middle;\"><strong>name</strong> </div><div class=\"cmap\"><img alt=\"name colormap\" title=\"name\" style=\"border: 1px solid #555;\" src=\"data:image/png;base64,iVBORw0KGgoAAAANSUhEUgAAAgAAAABACAYAAABsv8+/AAAAE3RFWHRUaXRsZQBuYW1lIGNvbG9ybWFwPbutrgAAABl0RVh0RGVzY3JpcHRpb24AbmFtZSBjb2xvcm1hcLYJPTYAAAAwdEVYdEF1dGhvcgBNYXRwbG90bGliIHYzLjkuMSwgaHR0cHM6Ly9tYXRwbG90bGliLm9yZ1R0cwAAAAAydEVYdFNvZnR3YXJlAE1hdHBsb3RsaWIgdjMuOS4xLCBodHRwczovL21hdHBsb3RsaWIub3JnetLsJwAAAkZJREFUeJzt1kGSmzAQBVABF8oBcv9LGUwWljyFQIOd7X9vo+pWSyKpmak/lb9/9lJKKdNUjuv8WueubvvzfD0/2n/X3b2n/uDdQX+q/eldT4N+t/9hf+7X+u859f93rluXm3PL3fnu/X5+mUf9Vh/3f+7rzi/X5z9dR+8s/f/DdKyX7jvO+8e59ztTf283153v772fH6zlZq5c99/z5aX+1Jd532t/P9TTXq77XT13c2Xf6s1rrdeuftzst/pxub8/X+/s9f3S6md7v/w+V8vS7f+cb3U5nj/NDd65mzu90/W7+vR9/f6gX9r3384N7tuu3//2e4fn2vHns16zH9a9q9vcqf/lfqu3wbuj7zn1vzx/eu/m/DZat9fv13o3NzpX18fj9fv1WNdf6/XTuVq3vy8AQBABAAACCQAAEEgAAIBAAgAABBIAACCQAAAAgQQAAAgkAABAIAEAAAIJAAAQSAAAgEACAAAEEgAAIJAAAACBBAAACCQAAEAgAQAAAgkAABBIAACAQAIAAAQSAAAgkAAAAIEEAAAIJAAAQCABAAACCQAAEEgAAIBAAgAABBIAACCQAAAAgQQAAAgkAABAIAEAAAIJAAAQSAAAgEACAAAEEgAAIJAAAACBBAAACCQAAEAgAQAAAgkAABBIAACAQAIAAAQSAAAgkAAAAIEEAAAIJAAAQCABAAACCQAAEEgAAIBAAgAABBIAACCQAAAAgQQAAAgkAABAIAEAAAIJAAAQSAAAgEACAAAEEgAAIJAAAACB/gE0LWOsgCtZuQAAAABJRU5ErkJggg==\"></div><div style=\"vertical-align: middle; max-width: 514px; display: flex; justify-content: space-between;\"><div style=\"float: left;\"><div title=\"#003c30ff\" style=\"display: inline-block; width: 1em; height: 1em; margin: 0; vertical-align: middle; border: 1px solid #555; background-color: #003c30ff;\"></div> under</div><div style=\"margin: 0 auto; display: inline-block;\">bad <div title=\"#00000000\" style=\"display: inline-block; width: 1em; height: 1em; margin: 0; vertical-align: middle; border: 1px solid #555; background-color: #00000000;\"></div></div><div style=\"float: right;\">over <div title=\"#1e0000ff\" style=\"display: inline-block; width: 1em; height: 1em; margin: 0; vertical-align: middle; border: 1px solid #555; background-color: #1e0000ff;\"></div></div>"
      ],
      "text/plain": [
       "<matplotlib.colors.LinearSegmentedColormap at 0x14cddd742d70>"
      ]
     },
     "execution_count": 14,
     "metadata": {},
     "output_type": "execute_result"
    }
   ],
   "source": [
    "LinearSegmentedColormap.from_list(\"name\",[rgb2hex(mpl.colormaps.get_cmap(cmap_BuGnPi)(i)) for i in np.linspace(0,1,23)])"
   ]
  },
  {
   "cell_type": "code",
   "execution_count": 54,
   "id": "1a126591-feb6-4cd9-89d7-34f9b1f1e3b9",
   "metadata": {},
   "outputs": [
    {
     "data": {
      "image/png": "[encoded data removed]",
      "text/html": [
       "<div style=\"vertical-align: middle;\"><strong>colormap</strong> </div><div class=\"cmap\"><img alt=\"colormap colormap\" title=\"colormap\" style=\"border: 1px solid #555;\" src=\"data:image/png;base64,iVBORw0KGgoAAAANSUhEUgAAAgAAAABACAYAAABsv8+/AAAAF3RFWHRUaXRsZQBjb2xvcm1hcCBjb2xvcm1hcGGr74wAAAAddEVYdERlc2NyaXB0aW9uAGNvbG9ybWFwIGNvbG9ybWFwSNUIpQAAADB0RVh0QXV0aG9yAE1hdHBsb3RsaWIgdjMuOS4xLCBodHRwczovL21hdHBsb3RsaWIub3JnVHRzAAAAADJ0RVh0U29mdHdhcmUATWF0cGxvdGxpYiB2My45LjEsIGh0dHBzOi8vbWF0cGxvdGxpYi5vcmd60uwnAAAB00lEQVR4nO3WS27CMBiF0T9hVZ13/zsi7oBECAcT+pJa7jkTC/xKI6R+U72/taqqaa6qqprn6e54PL99vr9uOj2ef/qc3b7bddd7BvODez+7bn9PNz/c/9z7nLfzax3XDT89nn7p3Je/p17j77j8uqra0qqqalnH1o/tYH7b37453903nB+sW5bljz7Xf3+vX3z+bf68rOtux9Z97tdd59vddbv9/fnnwf7+/Kefr/+dDe4fPl+3f3Dv8fO12/nD99d/f9m//hsCAJIIAAAIJAAAIJAAAIBAAgAAAgkAAAgkAAAgkAAAgEACAAACCQAACCQAACCQAACAQAIAAAIJAAAIJAAAIJAAAIBAAgAAAgkAAAgkAAAgkAAAgEACAAACCQAACCQAACCQAACAQAIAAAIJAAAIJAAAIJAAAIBAAgAAAgkAAAgkAAAgkAAAgEACAAACCQAACCQAACCQAACAQAIAAAIJAAAIJAAAIJAAAIBAAgAAAgkAAAgkAAAgkAAAgEACAAACCQAACCQAACCQAACAQAIAAAIJAAAIJAAAIJAAAIBAAgAAAgkAAAgkAAAgkAAAgEACAAACCQAACCQAACCQAACAQAIAAAIJAAAIJAAAINAHsml/GWTdSBMAAAAASUVORK5CYII=\"></div><div style=\"vertical-align: middle; max-width: 514px; display: flex; justify-content: space-between;\"><div style=\"float: left;\"><div title=\"#004439ff\" style=\"display: inline-block; width: 1em; height: 1em; margin: 0; vertical-align: middle; border: 1px solid #555; background-color: #004439ff;\"></div> under</div><div style=\"margin: 0 auto; display: inline-block;\">bad <div title=\"#00000000\" style=\"display: inline-block; width: 1em; height: 1em; margin: 0; vertical-align: middle; border: 1px solid #555; background-color: #00000000;\"></div></div><div style=\"float: right;\">over <div title=\"#40004bff\" style=\"display: inline-block; width: 1em; height: 1em; margin: 0; vertical-align: middle; border: 1px solid #555; background-color: #40004bff;\"></div></div>"
      ],
      "text/plain": [
       "<matplotlib.colors.LinearSegmentedColormap at 0x1516abfa4a30>"
      ]
     },
     "execution_count": 54,
     "metadata": {},
     "output_type": "execute_result"
    }
   ],
   "source": [
    "cmap_dict[\"ipcc_chem_div\"]"
   ]
  },
  {
   "cell_type": "code",
   "execution_count": 59,
   "id": "a4769398-226f-48b1-9596-8a9f2c827464",
   "metadata": {},
   "outputs": [
    {
     "data": {
      "image/png": "[encoded data removed]",
      "text/html": [
       "<div style=\"vertical-align: middle;\"><strong>name</strong> </div><div class=\"cmap\"><img alt=\"name colormap\" title=\"name\" style=\"border: 1px solid #555;\" src=\"data:image/png;base64,iVBORw0KGgoAAAANSUhEUgAAAgAAAABACAYAAABsv8+/AAAAE3RFWHRUaXRsZQBuYW1lIGNvbG9ybWFwPbutrgAAABl0RVh0RGVzY3JpcHRpb24AbmFtZSBjb2xvcm1hcLYJPTYAAAAwdEVYdEF1dGhvcgBNYXRwbG90bGliIHYzLjkuMSwgaHR0cHM6Ly9tYXRwbG90bGliLm9yZ1R0cwAAAAAydEVYdFNvZnR3YXJlAE1hdHBsb3RsaWIgdjMuOS4xLCBodHRwczovL21hdHBsb3RsaWIub3JnetLsJwAAAhJJREFUeJzt1kFSpTAARdEEVtXz3v+ODA6EbyX8CNg9e+dMEBJCQMu6tfz9s5VSSq2llFLKsnz9UPfj8jqWyfVjfplc38/Xfp1x3vic1/3rzXmP9/tsnfn73FxnHd67HuPLfr4M48/O19f517GWYd4/Hmvt11vr+uj+dbxeHs4fv9Pd+357/M/f7/a+9j+U+fd6uK+L73zY2vb22Lb317fZ9Va68XYab/31yTqn+6br3R3v33O2/nQf28X+Tvto997r6ju3h+vN9nnxe7z8Hvv3O/bRPia/z8l+v8f7+ad5H627/j3efhx/zbsaP10f99U/Z77fu8+/eK/Zfn/7/GHebP4xr/8vAABEEAAAEEgAAEAgAQAAgQQAAAQSAAAQSAAAQCABAACBBAAABBIAABBIAABAIAEAAIEEAAAEEgAAEEgAAEAgAQAAgQQAAAQSAAAQSAAAQCABAACBBAAABBIAABBIAABAIAEAAIEEAAAEEgAAEEgAAEAgAQAAgQQAAAQSAAAQSAAAQCABAACBBAAABBIAABBIAABAIAEAAIEEAAAEEgAAEEgAAEAgAQAAgQQAAAQSAAAQSAAAQCABAACBBAAABBIAABBIAABAIAEAAIEEAAAEEgAAEEgAAEAgAQAAgQQAAAQSAAAQSAAAQCABAACBBAAABBIAABBIAABAIAEAAIEEAAAEEgAAEEgAAECgT/ejfBlAR70YAAAAAElFTkSuQmCC\"></div><div style=\"vertical-align: middle; max-width: 514px; display: flex; justify-content: space-between;\"><div style=\"float: left;\"><div title=\"#004439ff\" style=\"display: inline-block; width: 1em; height: 1em; margin: 0; vertical-align: middle; border: 1px solid #555; background-color: #004439ff;\"></div> under</div><div style=\"margin: 0 auto; display: inline-block;\">bad <div title=\"#00000000\" style=\"display: inline-block; width: 1em; height: 1em; margin: 0; vertical-align: middle; border: 1px solid #555; background-color: #00000000;\"></div></div><div style=\"float: right;\">over <div title=\"#40004bff\" style=\"display: inline-block; width: 1em; height: 1em; margin: 0; vertical-align: middle; border: 1px solid #555; background-color: #40004bff;\"></div></div>"
      ],
      "text/plain": [
       "<matplotlib.colors.LinearSegmentedColormap at 0x1516a47aa890>"
      ]
     },
     "execution_count": 59,
     "metadata": {},
     "output_type": "execute_result"
    }
   ],
   "source": [
    "LinearSegmentedColormap.from_list('name', [colors.rgb2hex(mpl.colormaps.get_cmap(cmap_dict[\"ipcc_chem_div\"])(i)) for i in np.linspace(0,1,23)])"
   ]
  },
  {
   "cell_type": "code",
   "execution_count": 40,
   "id": "71bcc985-702b-40c8-9c84-47a2413afc0c",
   "metadata": {},
   "outputs": [
    {
     "data": {
      "image/png": "[encoded data removed]",
      "text/html": [
       "<div style=\"vertical-align: middle;\"><strong>mustard</strong> </div><div class=\"cmap\"><img alt=\"mustard colormap\" title=\"mustard\" style=\"border: 1px solid #555;\" src=\"data:image/png;base64,iVBORw0KGgoAAAANSUhEUgAAAgAAAABACAYAAABsv8+/AAAAFnRFWHRUaXRsZQBtdXN0YXJkIGNvbG9ybWFwrwSMXwAAABx0RVh0RGVzY3JpcHRpb24AbXVzdGFyZCBjb2xvcm1hcAgqPSYAAAAwdEVYdEF1dGhvcgBNYXRwbG90bGliIHYzLjkuMSwgaHR0cHM6Ly9tYXRwbG90bGliLm9yZ1R0cwAAAAAydEVYdFNvZnR3YXJlAE1hdHBsb3RsaWIgdjMuOS4xLCBodHRwczovL21hdHBsb3RsaWIub3JnetLsJwAAAeBJREFUeJzt1lGO2jAUQFG3+99B19YldAu4H52kGndCkhk+Kt1zfpDhGYIh0v326+ePOcYYcz7GH/PtYb5bz339tbn5z76bc+vnncztr796brmObW6uz396bjvPq+eznv/2+vv91/et8yfXcfP3O7yOo/PY9x38D86u/+g8Tr/3x7/LY5tbxtbHq3PbdTwuzv19/9fOHc8//x6PF8/dPr9xdf7eOb/6fD8/97Xf6f7cwTm+3T77XXTz/73fTmM8Xe9P7+u5rJ/vP15v9/f6/h+vj/afX+/Z+v84j+8DAMgRAAAQJAAAIEgAAECQAACAIAEAAEECAACCBAAABAkAAAgSAAAQJAAAIEgAAECQAACAIAEAAEECAACCBAAABAkAAAgSAAAQJAAAIEgAAECQAACAIAEAAEECAACCBAAABAkAAAgSAAAQJAAAIEgAAECQAACAIAEAAEECAACCBAAABAkAAAgSAAAQJAAAIEgAAECQAACAIAEAAEECAACCBAAABAkAAAgSAAAQJAAAIEgAAECQAACAIAEAAEECAACCBAAABAkAAAgSAAAQJAAAIEgAAECQAACAIAEAAEECAACCBAAABAkAAAgSAAAQJAAAIEgAAECQAACAIAEAAEECAACCfgOqCMsGcPS9LgAAAABJRU5ErkJggg==\"></div><div style=\"vertical-align: middle; max-width: 514px; display: flex; justify-content: space-between;\"><div style=\"float: left;\"><div title=\"#eddd9bff\" style=\"display: inline-block; width: 1em; height: 1em; margin: 0; vertical-align: middle; border: 1px solid #555; background-color: #eddd9bff;\"></div> under</div><div style=\"margin: 0 auto; display: inline-block;\">bad <div title=\"#00000000\" style=\"display: inline-block; width: 1em; height: 1em; margin: 0; vertical-align: middle; border: 1px solid #555; background-color: #00000000;\"></div></div><div style=\"float: right;\">over <div title=\"#3c320aff\" style=\"display: inline-block; width: 1em; height: 1em; margin: 0; vertical-align: middle; border: 1px solid #555; background-color: #3c320aff;\"></div></div>"
      ],
      "text/plain": [
       "<matplotlib.colors.LinearSegmentedColormap at 0x1553344288e0>"
      ]
     },
     "execution_count": 40,
     "metadata": {},
     "output_type": "execute_result"
    }
   ],
   "source": [
    "cmap_mustard = LinearSegmentedColormap.from_list(\n",
    "    \"mustard\",\n",
    "    # [(195 / 235, 152 / 235, 21 / 235), (229 / 235, 208 / 235, 147 / 235)],\n",
    "    # [\"#f4ea94\", \"#e2ce17\", \"#61580a\"]\n",
    "    [\"#eddd9b\", \"#e2c85e\", \"#d3b125\", \"#977f1b\", \"#5a4c10\", \"#3c320a\"]\n",
    ")\n",
    "cmap_mustard"
   ]
  },
  {
   "cell_type": "code",
   "execution_count": 12,
   "id": "304352e5-78f1-4a11-bde9-42ddb2f73366",
   "metadata": {},
   "outputs": [
    {
     "data": {
      "image/png": "[encoded data removed]",
      "text/html": [
       "<div style=\"vertical-align: middle;\"><strong>BrBu</strong> </div><div class=\"cmap\"><img alt=\"BrBu colormap\" title=\"BrBu\" style=\"border: 1px solid #555;\" src=\"data:image/png;base64,iVBORw0KGgoAAAANSUhEUgAAAgAAAABACAYAAABsv8+/AAAAE3RFWHRUaXRsZQBCckJ1IGNvbG9ybWFwXTOaVQAAABl0RVh0RGVzY3JpcHRpb24AQnJCdSBjb2xvcm1hcNaBCs0AAAAwdEVYdEF1dGhvcgBNYXRwbG90bGliIHYzLjkuMSwgaHR0cHM6Ly9tYXRwbG90bGliLm9yZ1R0cwAAAAAydEVYdFNvZnR3YXJlAE1hdHBsb3RsaWIgdjMuOS4xLCBodHRwczovL21hdHBsb3RsaWIub3JnetLsJwAAAeJJREFUeJzt1k1uwjAURtGXMOtyOu7+d0XSAaYIU8Dhp1L1nTOJ7CS2g6rqTl+fH2tV1TxVVVXN8+G6axPH8dzGu7nuzP8+Pq17bf72ePxct/f7f+ca2+/Zc1XtDpepXWvuxqP3H33vRfv2z79r3ae/d3DdzftuW3dp51uWOrvu1+rmD38nS5vfd88v63Rlvlu3W+c0f77O6Hku58fOs9/4XZfnHPuuP9/v5/ca+x3XtsC6tmu7cZrvxsf7o8+38XL3/Y3rPniOh99/1bnfdo6Nz7fx8b8BABBEAABAIAEAAIEEAAAEEgAAEEgAAEAgAQAAgQQAAAQSAAAQSAAAQCABAACBBAAABBIAABBIAABAIAEAAIEEAAAEEgAAEEgAAEAgAQAAgQQAAAQSAAAQSAAAQCABAACBBAAABBIAABBIAABAIAEAAIEEAAAEEgAAEEgAAEAgAQAAgQQAAAQSAAAQSAAAQCABAACBBAAABBIAABBIAABAIAEAAIEEAAAEEgAAEEgAAEAgAQAAgQQAAAQSAAAQSAAAQCABAACBBAAABBIAABBIAABAIAEAAIEEAAAEEgAAEEgAAEAgAQAAgQQAAAQSAAAQSAAAQCABAACBBAAABBIAABBIAABAIAEAAIG+AVTQQQ5kAbSjAAAAAElFTkSuQmCC\"></div><div style=\"vertical-align: middle; max-width: 514px; display: flex; justify-content: space-between;\"><div style=\"float: left;\"><div title=\"#3c320aff\" style=\"display: inline-block; width: 1em; height: 1em; margin: 0; vertical-align: middle; border: 1px solid #555; background-color: #3c320aff;\"></div> under</div><div style=\"margin: 0 auto; display: inline-block;\">bad <div title=\"#00000000\" style=\"display: inline-block; width: 1em; height: 1em; margin: 0; vertical-align: middle; border: 1px solid #555; background-color: #00000000;\"></div></div><div style=\"float: right;\">over <div title=\"#000080ff\" style=\"display: inline-block; width: 1em; height: 1em; margin: 0; vertical-align: middle; border: 1px solid #555; background-color: #000080ff;\"></div></div>"
      ],
      "text/plain": [
       "<matplotlib.colors.LinearSegmentedColormap at 0x15535000ea40>"
      ]
     },
     "execution_count": 12,
     "metadata": {},
     "output_type": "execute_result"
    }
   ],
   "source": [
    "LinearSegmentedColormap.from_list(\n",
    "    \"BrBu\",\n",
    "    [\"#3c320a\", \"#d3b125\",  \"lightgrey\",\"royalblue\",\"navy\", ]\n",
    ")"
   ]
  },
  {
   "cell_type": "code",
   "execution_count": null,
   "id": "4bd2a64e-0d71-4121-99b2-57dbdef76331",
   "metadata": {},
   "outputs": [],
   "source": []
  },
  {
   "cell_type": "code",
   "execution_count": null,
   "id": "7d2f9a9d-e3a3-4da3-ab5e-a3b84f219831",
   "metadata": {},
   "outputs": [],
   "source": []
  },
  {
   "cell_type": "code",
   "execution_count": 26,
   "id": "0b44c9f6-5a01-40bb-8d02-fe19eb4be3e5",
   "metadata": {},
   "outputs": [],
   "source": [
    "\n",
    "import numpy as np\n",
    "import matplotlib.pyplot as plt\n",
    "import matplotlib.colors as mcolors\n",
    "\n",
    "data = np.random.rand(10,10) * 2 - 1\n",
    "\n",
    "# sample the colormaps that you want to use. Use 128 from each so we get 256\n",
    "# colors in total\n",
    "colors1 = cm.Blues_r(np.linspace(0., 1, 128))\n",
    "colors2 = cm.YlOrBr(np.linspace(0, 1, 128))\n",
    "\n",
    "# combine them and build a new colormap\n",
    "colors = np.vstack((colors1, colors2))\n",
    "mymap = mcolors.LinearSegmentedColormap.from_list('my_colormap', np.vstack((cm.Blues_r(np.linspace(0., 1, 128)),cm.YlOrBr(np.linspace(0, 1, 128)) )))\n",
    "mymap"
   ]
  },
  {
   "cell_type": "code",
   "execution_count": 55,
   "id": "c6115688-67c7-4cd6-9b96-0d7c51a7763e",
   "metadata": {},
   "outputs": [
    {
     "data": {
      "image/png": "[encoded data removed]",
      "text/html": [
       "<div style=\"vertical-align: middle;\"><strong>PiYG_r</strong> </div><div class=\"cmap\"><img alt=\"PiYG_r colormap\" title=\"PiYG_r\" style=\"border: 1px solid #555;\" src=\"data:image/png;base64,iVBORw0KGgoAAAANSUhEUgAAAgAAAABACAYAAABsv8+/AAAAFXRFWHRUaXRsZQBQaVlHX3IgY29sb3JtYXC8bUWgAAAAG3RFWHREZXNjcmlwdGlvbgBQaVlHX3IgY29sb3JtYXD1+l1EAAAAMHRFWHRBdXRob3IATWF0cGxvdGxpYiB2My45LjEsIGh0dHBzOi8vbWF0cGxvdGxpYi5vcmdUdHMAAAAAMnRFWHRTb2Z0d2FyZQBNYXRwbG90bGliIHYzLjkuMSwgaHR0cHM6Ly9tYXRwbG90bGliLm9yZ3rS7CcAAAIcSURBVHic7dZLbtswAEVRUlpFVtCNdf8rqKUMTAoQbdZKq9k7Z8LwI8oGjODWX7+/9lJKqbWUUkqpy3Nclj6v53nt+/Xv51/um5yvw/233dfHpT0/rvd7l8n6zc+/rH+6v6/3cW3r62l9Pebr8Nz6fv/4vG1/8tzV/eNzTNaXl/e3sbxfr+P3nZ774X2T/Zf7PpzrYynt91eWNrYf6DDv+z8+Xz+dv+u9zT6Ozz9qn5fzej9XJ8+N99Vxfbjv0z310/19urWFNu77MN/Oz999/rZ7j3F7rj+203x/zPb34Vzbnzx3fX8/za/uH+t/tvP42K6tXz538T3/+d6tfZ9t34bx/fpjsv7vz91zvq/3/xIAQBABAACBBAAABBIAABBIAABAIAEAAIEEAAAEEgAAEEgAAEAgAQAAgQQAAAQSAAAQSAAAQCABAACBBAAABBIAABBIAABAIAEAAIEEAAAEEgAAEEgAAEAgAQAAgQQAAAQSAAAQSAAAQCABAACBBAAABBIAABBIAABAIAEAAIEEAAAEEgAAEEgAAEAgAQAAgQQAAAQSAAAQSAAAQCABAACBBAAABBIAABBIAABAIAEAAIEEAAAEEgAAEEgAAEAgAQAAgQQAAAQSAAAQSAAAQCABAACBBAAABBIAABBIAABAIAEAAIEEAAAEEgAAEEgAAEAgAQAAgQQAAAQSAAAQSAAAQCABAACBBAAABPoGVjQ5b2l/sQUAAAAASUVORK5CYII=\"></div><div style=\"vertical-align: middle; max-width: 514px; display: flex; justify-content: space-between;\"><div style=\"float: left;\"><div title=\"#276419ff\" style=\"display: inline-block; width: 1em; height: 1em; margin: 0; vertical-align: middle; border: 1px solid #555; background-color: #276419ff;\"></div> under</div><div style=\"margin: 0 auto; display: inline-block;\">bad <div title=\"#00000000\" style=\"display: inline-block; width: 1em; height: 1em; margin: 0; vertical-align: middle; border: 1px solid #555; background-color: #00000000;\"></div></div><div style=\"float: right;\">over <div title=\"#8e0152ff\" style=\"display: inline-block; width: 1em; height: 1em; margin: 0; vertical-align: middle; border: 1px solid #555; background-color: #8e0152ff;\"></div></div>"
      ],
      "text/plain": [
       "<matplotlib.colors.LinearSegmentedColormap at 0x155358862680>"
      ]
     },
     "execution_count": 55,
     "metadata": {},
     "output_type": "execute_result"
    }
   ],
   "source": [
    "cm.PiYG_r"
   ]
  },
  {
   "cell_type": "code",
   "execution_count": 58,
   "id": "5969a73b-37b2-46ef-af57-288357f98198",
   "metadata": {},
   "outputs": [
    {
     "data": {
      "image/png": "[encoded data removed]",
      "text/html": [
       "<div style=\"vertical-align: middle;\"><strong>BuGnPi</strong> </div><div class=\"cmap\"><img alt=\"BuGnPi colormap\" title=\"BuGnPi\" style=\"border: 1px solid #555;\" src=\"data:image/png;base64,iVBORw0KGgoAAAANSUhEUgAAAgAAAABACAYAAABsv8+/AAAAFXRFWHRUaXRsZQBCdUduUGkgY29sb3JtYXCbAQPlAAAAG3RFWHREZXNjcmlwdGlvbgBCdUduUGkgY29sb3JtYXDSlhsBAAAAMHRFWHRBdXRob3IATWF0cGxvdGxpYiB2My45LjEsIGh0dHBzOi8vbWF0cGxvdGxpYi5vcmdUdHMAAAAAMnRFWHRTb2Z0d2FyZQBNYXRwbG90bGliIHYzLjkuMSwgaHR0cHM6Ly9tYXRwbG90bGliLm9yZ3rS7CcAAAJJSURBVHic7dZNbtswFEbRR3nozXQB3f+GErSoY0kdRHRg2oIdAxl950wI/klKEAS31e9fa1VVtVZVVTVNn2ObrueX9bazPp5vD54znNt7zrPntnHavm/q858af/g9h8u8Xc2/PR5evDfcH7/r++P2c7Tr39+hDT9f2zs37l/fe3RuGtdv3rdzbufe9tdYU/V747xdn+vP7/vD+u654blt933DuTa8Z/iuvn48Hquqal2XYZy3E+P68uL6/OD8/NT67XeN9+6fv90fx3V77Oe49nFv/dn9Yaz1wf6j+zfry/1z83Pfs56H+3N/z/31r/kynB/OzTv3h/3+ncvSx2V73M58G+cH5/b2x/XLvO8/ef7lcZ6v5udhvc/Pe/Nt/Ojj+Xx3fvr4qKqqf308naqq6s/bW1VV/X1/r6qv/wMAQBABAACBBAAABBIAABBIAABAIAEAAIEEAAAEEgAAEEgAAEAgAQAAgQQAAAQSAAAQSAAAQCABAACBBAAABBIAABBIAABAIAEAAIEEAAAEEgAAEEgAAEAgAQAAgQQAAAQSAAAQSAAAQCABAACBBAAABBIAABBIAABAIAEAAIEEAAAEEgAAEEgAAEAgAQAAgQQAAAQSAAAQSAAAQCABAACBBAAABBIAABBIAABAIAEAAIEEAAAEEgAAEEgAAEAgAQAAgQQAAAQSAAAQSAAAQCABAACBBAAABBIAABBIAABAIAEAAIEEAAAEEgAAEEgAAEAgAQAAgQQAAAQSAAAQSAAAQCABAACBBAAABPoPe0JirBd9H8oAAAAASUVORK5CYII=\"></div><div style=\"vertical-align: middle; max-width: 514px; display: flex; justify-content: space-between;\"><div style=\"float: left;\"><div title=\"#003c30ff\" style=\"display: inline-block; width: 1em; height: 1em; margin: 0; vertical-align: middle; border: 1px solid #555; background-color: #003c30ff;\"></div> under</div><div style=\"margin: 0 auto; display: inline-block;\">bad <div title=\"#00000000\" style=\"display: inline-block; width: 1em; height: 1em; margin: 0; vertical-align: middle; border: 1px solid #555; background-color: #00000000;\"></div></div><div style=\"float: right;\">over <div title=\"#1e0000ff\" style=\"display: inline-block; width: 1em; height: 1em; margin: 0; vertical-align: middle; border: 1px solid #555; background-color: #1e0000ff;\"></div></div>"
      ],
      "text/plain": [
       "<matplotlib.colors.LinearSegmentedColormap at 0x15533aedfc70>"
      ]
     },
     "execution_count": 58,
     "metadata": {},
     "output_type": "execute_result"
    }
   ],
   "source": [
    "mcolors.LinearSegmentedColormap.from_list('BuGnPi', np.vstack((cm.BrBG(np.linspace(0.5, 1, 128)[::-1]),cm.pink_r(np.linspace(0, 1, 128)) )))"
   ]
  },
  {
   "cell_type": "code",
   "execution_count": 85,
   "id": "a990df4c-be44-45f6-a38d-5926c87909b4",
   "metadata": {},
   "outputs": [
    {
     "data": {
      "image/png": "[encoded data removed]",
      "text/html": [
       "<div style=\"vertical-align: middle;\"><strong>BuGnPi</strong> </div><div class=\"cmap\"><img alt=\"BuGnPi colormap\" title=\"BuGnPi\" style=\"border: 1px solid #555;\" src=\"data:image/png;base64,iVBORw0KGgoAAAANSUhEUgAAAgAAAABACAYAAABsv8+/AAAAFXRFWHRUaXRsZQBCdUduUGkgY29sb3JtYXCbAQPlAAAAG3RFWHREZXNjcmlwdGlvbgBCdUduUGkgY29sb3JtYXDSlhsBAAAAMHRFWHRBdXRob3IATWF0cGxvdGxpYiB2My45LjEsIGh0dHBzOi8vbWF0cGxvdGxpYi5vcmdUdHMAAAAAMnRFWHRTb2Z0d2FyZQBNYXRwbG90bGliIHYzLjkuMSwgaHR0cHM6Ly9tYXRwbG90bGliLm9yZ3rS7CcAAAJUSURBVHic7dZBctNAEIbRllLkPByA+58IiiS2JRaWnLhlxfaGzf/eZmpa45GoAuob6tfPuaqqhqFur+N5Hft+vD532d85v3vPk+/ZmQ/L74b2vj4f13X5/djnbR0ePPfsvf3c5vvu3Peys39Z/tz7z/vvh2+f/6/3rH/Oy3xo88va7uvzdn4cxnbuufn2u9p8971tX+u5uno+1vL3tPr8bGjntvOd+6bpUFU1TvPHeZ0+qqqG07LO78s9f17P6+/Xr/uqvz+qqmqevy6f+2mdzzfntS6bc3W978+n6/d93tfeu5m377t3X3vv3fv67/a+u3/fdH3f7vlH7znd+Z5H56fbzzfr8l3T/Nj+sk7T9+fa82fv250/eq7NT/3cznxzrj9/cD2eTrfn637v+TI/HI/X6zo/HKqq6v39/O/74+3tvK77ZV3/3wAAgggAAAgkAAAgkAAAgEACAAACCQAACCQAACCQAACAQAIAAAIJAAAIJAAAIJAAAIBAAgAAAgkAAAgkAAAgkAAAgEACAAACCQAACCQAACCQAACAQAIAAAIJAAAIJAAAIJAAAIBAAgAAAgkAAAgkAAAgkAAAgEACAAACCQAACCQAACCQAACAQAIAAAIJAAAIJAAAIJAAAIBAAgAAAgkAAAgkAAAgkAAAgEACAAACCQAACCQAACCQAACAQAIAAAIJAAAIJAAAIJAAAIBAAgAAAgkAAAgkAAAgkAAAgEACAAACCQAACCQAACCQAACAQAIAAAIJAAAIJAAAIJAAAIBAAgAAAgkAAAgkAAAg0D/5+mWssUxZjwAAAABJRU5ErkJggg==\"></div><div style=\"vertical-align: middle; max-width: 514px; display: flex; justify-content: space-between;\"><div style=\"float: left;\"><div title=\"#003c30ff\" style=\"display: inline-block; width: 1em; height: 1em; margin: 0; vertical-align: middle; border: 1px solid #555; background-color: #003c30ff;\"></div> under</div><div style=\"margin: 0 auto; display: inline-block;\">bad <div title=\"#00000000\" style=\"display: inline-block; width: 1em; height: 1em; margin: 0; vertical-align: middle; border: 1px solid #555; background-color: #00000000;\"></div></div><div style=\"float: right;\">over <div title=\"#1e0000ff\" style=\"display: inline-block; width: 1em; height: 1em; margin: 0; vertical-align: middle; border: 1px solid #555; background-color: #1e0000ff;\"></div></div>"
      ],
      "text/plain": [
       "<matplotlib.colors.LinearSegmentedColormap at 0x1553343ddf90>"
      ]
     },
     "execution_count": 85,
     "metadata": {},
     "output_type": "execute_result"
    }
   ],
   "source": [
    "LinearSegmentedColormap.from_list('BuGnPi', np.vstack((cm.BrBG(np.linspace(0.55, 1, 30)[::-1]),[0.9,0.9,0.9,0.9], cm.pink_r(np.linspace(0.25, 1, 30)) )))"
   ]
  },
  {
   "cell_type": "code",
   "execution_count": 60,
   "id": "3a4d9f4a-1733-45ea-aa81-0cd816aa7ece",
   "metadata": {},
   "outputs": [],
   "source": [
    "cmap_BuGnPi = mcolors.LinearSegmentedColormap.from_list('BuGnPi', np.vstack((cm.BrBG(np.linspace(0.5, 1, 128)[::-1]),cm.pink_r(np.linspace(0, 1, 128)) )))\n",
    "cmap_BuGnPi_r = mcolors.LinearSegmentedColormap.from_list('BuGnPi_r',cmap_BuGnPi(np.linspace(0,1,256))[::-1])"
   ]
  },
  {
   "cell_type": "code",
   "execution_count": 61,
   "id": "76ac4457-dc03-4b0c-9db0-bf105d42b196",
   "metadata": {},
   "outputs": [
    {
     "data": {
      "image/png": "[encoded data removed]",
      "text/html": [
       "<div style=\"vertical-align: middle;\"><strong>BuGnPi_r</strong> </div><div class=\"cmap\"><img alt=\"BuGnPi_r colormap\" title=\"BuGnPi_r\" style=\"border: 1px solid #555;\" src=\"data:image/png;base64,iVBORw0KGgoAAAANSUhEUgAAAgAAAABACAYAAABsv8+/AAAAF3RFWHRUaXRsZQBCdUduUGlfciBjb2xvcm1hcL/JnncAAAAddEVYdERlc2NyaXB0aW9uAEJ1R25QaV9yIGNvbG9ybWFwlrd5XgAAADB0RVh0QXV0aG9yAE1hdHBsb3RsaWIgdjMuOS4xLCBodHRwczovL21hdHBsb3RsaWIub3JnVHRzAAAAADJ0RVh0U29mdHdhcmUATWF0cGxvdGxpYiB2My45LjEsIGh0dHBzOi8vbWF0cGxvdGxpYi5vcmd60uwnAAACSElEQVR4nO3WQW7bMBRF0S/KTtEi2UL3v8EMLXZgyYBpKU6CtpN3zoQg+SUlAVrc6XdVr6r6+fpaVVW/3t6qqurHy8t1PZ+rquplXc+n03Wd5939aVxb293P4344n8fzL65tmu732/163j45/3A+PH94fzB327frvubrOs1tXaf7te3fVxvmtvvxfPtOa7vn02l47mCt8bnbev98PXvPs/vp4/uH9xzMH90/nE/z3Vq17dtw3z68r9qff7x/dn70nfZk/tn5/vve39+rqmpZp5fe132/O+/jea/dfa9nc32dG7/32bn9925zl+X6pss6f+n3+6WP9333ucO59Xw5eO5wbnzfw/eGuWWY++K6bPvL956//KXnl+H3WP7Vuv0d/9N3at3f1j7sb/8gvjn3MN8Pzsf5T/5869z2vwQAEEQAAEAgAQAAgQQAAAQSAAAQSAAAQCABAACBBAAABBIAABBIAABAIAEAAIEEAAAEEgAAEEgAAEAgAQAAgQQAAAQSAAAQSAAAQCABAACBBAAABBIAABBIAABAIAEAAIEEAAAEEgAAEEgAAEAgAQAAgQQAAAQSAAAQSAAAQCABAACBBAAABBIAABBIAABAIAEAAIEEAAAEEgAAEEgAAEAgAQAAgQQAAAQSAAAQSAAAQCABAACBBAAABBIAABBIAABAIAEAAIEEAAAEEgAAEEgAAEAgAQAAgQQAAAQSAAAQSAAAQCABAACBBAAABBIAABBIAABAIAEAAIEEAAAEEgAAEEgAAEAgAQAAgf4AXz9P+vfaGQ0AAAAASUVORK5CYII=\"></div><div style=\"vertical-align: middle; max-width: 514px; display: flex; justify-content: space-between;\"><div style=\"float: left;\"><div title=\"#1e0000ff\" style=\"display: inline-block; width: 1em; height: 1em; margin: 0; vertical-align: middle; border: 1px solid #555; background-color: #1e0000ff;\"></div> under</div><div style=\"margin: 0 auto; display: inline-block;\">bad <div title=\"#00000000\" style=\"display: inline-block; width: 1em; height: 1em; margin: 0; vertical-align: middle; border: 1px solid #555; background-color: #00000000;\"></div></div><div style=\"float: right;\">over <div title=\"#003c30ff\" style=\"display: inline-block; width: 1em; height: 1em; margin: 0; vertical-align: middle; border: 1px solid #555; background-color: #003c30ff;\"></div></div>"
      ],
      "text/plain": [
       "<matplotlib.colors.LinearSegmentedColormap at 0x1553344af6a0>"
      ]
     },
     "execution_count": 61,
     "metadata": {},
     "output_type": "execute_result"
    }
   ],
   "source": [
    "cmap_BuGnPi_r"
   ]
  },
  {
   "cell_type": "code",
   "execution_count": 15,
   "id": "36dd9a45-1c96-4975-aa8c-80db05822b3f",
   "metadata": {},
   "outputs": [
    {
     "data": {
      "image/png": "[encoded data removed]",
      "text/html": [
       "<div style=\"vertical-align: middle;\"><strong>BuBr</strong> </div><div class=\"cmap\"><img alt=\"BuBr colormap\" title=\"BuBr\" style=\"border: 1px solid #555;\" src=\"data:image/png;base64,iVBORw0KGgoAAAANSUhEUgAAAgAAAABACAYAAABsv8+/AAAAE3RFWHRUaXRsZQBCdUJyIGNvbG9ybWFwy3doowAAABl0RVh0RGVzY3JpcHRpb24AQnVCciBjb2xvcm1hcEDF+DsAAAAwdEVYdEF1dGhvcgBNYXRwbG90bGliIHYzLjkuMSwgaHR0cHM6Ly9tYXRwbG90bGliLm9yZ1R0cwAAAAAydEVYdFNvZnR3YXJlAE1hdHBsb3RsaWIgdjMuOS4xLCBodHRwczovL21hdHBsb3RsaWIub3JnetLsJwAAAdVJREFUeJzt1tFOgzAYhuG/cOPeOOABVWM3HE43Tb7nOZktpe2MMW+retmqqlprVVXVpqmujqc+bsP40etPv/9f7vE7956edo/Wz6uqqpr34fv4Y367Ot9fr3naDubH9Z/XzcP6qe9zOf83580H+1z+vraD+ev3ubzn19/r1n2OvtfN+9S6/1DL/rGN4+Xc83vfu/l8PVj/4H3vPveH+z753HXd/06W/vhtvPbxMoyP5s+uOzpvGd573L2+d97/v9e478l77cPq/wYAgCQCAAACCQAACCQAACCQAACAQAIAAAIJAAAIJAAAIJAAAIBAAgAAAgkAAAgkAAAgkAAAgEACAAACCQAACCQAACCQAACAQAIAAAIJAAAIJAAAIJAAAIBAAgAAAgkAAAgkAAAgkAAAgEACAAACCQAACCQAACCQAACAQAIAAAIJAAAIJAAAIJAAAIBAAgAAAgkAAAgkAAAgkAAAgEACAAACCQAACCQAACCQAACAQAIAAAIJAAAIJAAAIJAAAIBAAgAAAgkAAAgkAAAgkAAAgEACAAACCQAACCQAACCQAACAQAIAAAIJAAAIJAAAIJAAAIBAAgAAAgkAAAgkAAAgkAAAgEACAAACCQAACPQKLzsLBsLydVoAAAAASUVORK5CYII=\"></div><div style=\"vertical-align: middle; max-width: 514px; display: flex; justify-content: space-between;\"><div style=\"float: left;\"><div title=\"#000080ff\" style=\"display: inline-block; width: 1em; height: 1em; margin: 0; vertical-align: middle; border: 1px solid #555; background-color: #000080ff;\"></div> under</div><div style=\"margin: 0 auto; display: inline-block;\">bad <div title=\"#00000000\" style=\"display: inline-block; width: 1em; height: 1em; margin: 0; vertical-align: middle; border: 1px solid #555; background-color: #00000000;\"></div></div><div style=\"float: right;\">over <div title=\"#3c320aff\" style=\"display: inline-block; width: 1em; height: 1em; margin: 0; vertical-align: middle; border: 1px solid #555; background-color: #3c320aff;\"></div></div>"
      ],
      "text/plain": [
       "<matplotlib.colors.LinearSegmentedColormap at 0x1553500b40d0>"
      ]
     },
     "execution_count": 15,
     "metadata": {},
     "output_type": "execute_result"
    }
   ],
   "source": [
    "LinearSegmentedColormap.from_list(\n",
    "    \"BuBr\",\n",
    "    [\"navy\", \"royalblue\", \"lightgrey\",\"#d3b125\", \"#3c320a\"]\n",
    ")"
   ]
  },
  {
   "cell_type": "code",
   "execution_count": 43,
   "id": "82eb7dbf-b664-48b7-ac04-407cbfc94fc3",
   "metadata": {},
   "outputs": [
    {
     "data": {
      "image/png": "[encoded data removed]",
      "text/html": [
       "<div style=\"vertical-align: middle;\"><strong>my_colormap</strong> </div><div class=\"cmap\"><img alt=\"my_colormap colormap\" title=\"my_colormap\" style=\"border: 1px solid #555;\" src=\"data:image/png;base64,iVBORw0KGgoAAAANSUhEUgAAAgAAAABACAYAAABsv8+/AAAAGnRFWHRUaXRsZQBteV9jb2xvcm1hcCBjb2xvcm1hcBJM2FsAAAAgdEVYdERlc2NyaXB0aW9uAG15X2NvbG9ybWFwIGNvbG9ybWFwg1KcDQAAADB0RVh0QXV0aG9yAE1hdHBsb3RsaWIgdjMuOS4xLCBodHRwczovL21hdHBsb3RsaWIub3JnVHRzAAAAADJ0RVh0U29mdHdhcmUATWF0cGxvdGxpYiB2My45LjEsIGh0dHBzOi8vbWF0cGxvdGxpYi5vcmd60uwnAAACNklEQVR4nO3WTW6bUBiG0Q/jQZbTfWX5iVrVNtCBwZWvTSFW1Q7ecyZX9w/wINHTvX17n6qq6tDXvxmP17G/X+8O3XV6OOya7z23997hNv87Y9+3639+T7/Mu2a+sf9wrlu51+wv68e+ed51qOOhfU89v7+xv6wfH95/f/72u9rvf9iv5+e/PL9/Tvef58v3dF+cv/y++QFv85/jNI3NOFw3ql0fX1wfNs4Pu9Yfv6u99/z84347TvNjr+O0jGvre/ebsaaN/a37D+vj83PDvu+ZLs39YXnP8/Xf87E535wbVu43+8t3juMyjvPjVubzOGycW9tv12/zZX/n+ZfHYbibX5r1ZX5Zm8/jeRkvl6fz0/lcVVU/l/F0qqqq7x8fVVX14/Ozqqrmf8MAQBIBAACBBAAABBIAABBIAABAIAEAAIEEAAAEEgAAEEgAAEAgAQAAgQQAAAQSAAAQSAAAQCABAACBBAAABBIAABBIAABAIAEAAIEEAAAEEgAAEEgAAEAgAQAAgQQAAAQSAAAQSAAAQCABAACBBAAABBIAABBIAABAIAEAAIEEAAAEEgAAEEgAAEAgAQAAgQQAAAQSAAAQSAAAQCABAACBBAAABBIAABBIAABAIAEAAIEEAAAEEgAAEEgAAEAgAQAAgQQAAAQSAAAQSAAAQCABAACBBAAABBIAABBIAABAIAEAAIEEAAAEEgAAEEgAAEAgAQAAgQQAAAQSAAAQSAAAQCABAACBBAAABPoFWIFirCQUKegAAAAASUVORK5CYII=\"></div><div style=\"vertical-align: middle; max-width: 514px; display: flex; justify-content: space-between;\"><div style=\"float: left;\"><div title=\"#08306bff\" style=\"display: inline-block; width: 1em; height: 1em; margin: 0; vertical-align: middle; border: 1px solid #555; background-color: #08306bff;\"></div> under</div><div style=\"margin: 0 auto; display: inline-block;\">bad <div title=\"#00000000\" style=\"display: inline-block; width: 1em; height: 1em; margin: 0; vertical-align: middle; border: 1px solid #555; background-color: #00000000;\"></div></div><div style=\"float: right;\">over <div title=\"#1e0000ff\" style=\"display: inline-block; width: 1em; height: 1em; margin: 0; vertical-align: middle; border: 1px solid #555; background-color: #1e0000ff;\"></div></div>"
      ],
      "text/plain": [
       "<matplotlib.colors.LinearSegmentedColormap at 0x15534ea55f90>"
      ]
     },
     "execution_count": 43,
     "metadata": {},
     "output_type": "execute_result"
    }
   ],
   "source": [
    "mcolors.LinearSegmentedColormap.from_list('my_colormap', np.vstack((cm.Blues_r(np.linspace(0., 1, 128)),cm.pink_r(np.linspace(0, 1, 128)) )))"
   ]
  },
  {
   "cell_type": "code",
   "execution_count": 38,
   "id": "90b9530a-e486-4bb0-9ad5-a82fd432f0cb",
   "metadata": {},
   "outputs": [
    {
     "data": {
      "image/png": "[encoded data removed]",
      "text/html": [
       "<div style=\"vertical-align: middle;\"><strong>my_colormap</strong> </div><div class=\"cmap\"><img alt=\"my_colormap colormap\" title=\"my_colormap\" style=\"border: 1px solid #555;\" src=\"data:image/png;base64,iVBORw0KGgoAAAANSUhEUgAAAgAAAABACAYAAABsv8+/AAAAGnRFWHRUaXRsZQBteV9jb2xvcm1hcCBjb2xvcm1hcBJM2FsAAAAgdEVYdERlc2NyaXB0aW9uAG15X2NvbG9ybWFwIGNvbG9ybWFwg1KcDQAAADB0RVh0QXV0aG9yAE1hdHBsb3RsaWIgdjMuOS4xLCBodHRwczovL21hdHBsb3RsaWIub3JnVHRzAAAAADJ0RVh0U29mdHdhcmUATWF0cGxvdGxpYiB2My45LjEsIGh0dHBzOi8vbWF0cGxvdGxpYi5vcmd60uwnAAACKUlEQVR4nO3WS27bMBiFUeoxyHK6r+67m6hNdaBHISqy5KBIB/ecCfGTlOwkQPt1Hz9+TqWUUvqhfM86zuuw3+/6bh77/tZ8997d5/pt/jfrMLT7rz9nWOeumS/OD/e6k+ea83V/HJr3zUsZ+/ZzyufPX5yv++Ph8/f3t5+r/f6H8/L5/bfn/Xu6/zyv36d7c/7y5y0v+Bh/zQfTc7+WejGv9+ub8/5909Tca79HPdm/PF/268n+9vy6Pk7W38v9s/OL5+7efzbfd51P95u5nu2/ft/0WP4Oy359zv8dTHXa7f+d1/O6m+vJ/tV7al2fr/u5Xdv7h/OvPb/9WuaxPJq5PV/nxzZ3L+9fvm/q9u+7WI/3upv3mnVeyvLPMACQRAAAQCABAACBBAAABBIAABBIAABAIAEAAIEEAAAEEgAAEEgAAEAgAQAAgQQAAAQSAAAQSAAAQCABAACBBAAABBIAABBIAABAIAEAAIEEAAAEEgAAEEgAAEAgAQAAgQQAAAQSAAAQSAAAQCABAACBBAAABBIAABBIAABAIAEAAIEEAAAEEgAAEEgAAEAgAQAAgQQAAAQSAAAQSAAAQCABAACBBAAABBIAABBIAABAIAEAAIEEAAAEEgAAEEgAAEAgAQAAgQQAAAQSAAAQSAAAQCABAACBBAAABBIAABBIAABAIAEAAIEEAAAEEgAAEEgAAEAgAQAAgQQAAAQSAAAQSAAAQCABAACB/gDGTRoeb7ZobwAAAABJRU5ErkJggg==\"></div><div style=\"vertical-align: middle; max-width: 514px; display: flex; justify-content: space-between;\"><div style=\"float: left;\"><div title=\"#08306bff\" style=\"display: inline-block; width: 1em; height: 1em; margin: 0; vertical-align: middle; border: 1px solid #555; background-color: #08306bff;\"></div> under</div><div style=\"margin: 0 auto; display: inline-block;\">bad <div title=\"#00000000\" style=\"display: inline-block; width: 1em; height: 1em; margin: 0; vertical-align: middle; border: 1px solid #555; background-color: #00000000;\"></div></div><div style=\"float: right;\">over <div title=\"#662506ff\" style=\"display: inline-block; width: 1em; height: 1em; margin: 0; vertical-align: middle; border: 1px solid #555; background-color: #662506ff;\"></div></div>"
      ],
      "text/plain": [
       "<matplotlib.colors.LinearSegmentedColormap at 0x15534f4e2e90>"
      ]
     },
     "execution_count": 38,
     "metadata": {},
     "output_type": "execute_result"
    }
   ],
   "source": [
    "mcolors.LinearSegmentedColormap.from_list('my_colormap', np.vstack((cm.Blues_r(np.linspace(0., 1, 128)),cm.YlOrBr(np.linspace(0, 1, 128)) )))"
   ]
  },
  {
   "cell_type": "code",
   "execution_count": 48,
   "id": "cf1a83e9-6f3d-410d-a4cd-fa3ef3ba39ca",
   "metadata": {},
   "outputs": [
    {
     "data": {
      "image/png": "[encoded data removed]",
      "text/html": [
       "<div style=\"vertical-align: middle;\"><strong>my_colormap</strong> </div><div class=\"cmap\"><img alt=\"my_colormap colormap\" title=\"my_colormap\" style=\"border: 1px solid #555;\" src=\"data:image/png;base64,iVBORw0KGgoAAAANSUhEUgAAAgAAAABACAYAAABsv8+/AAAAGnRFWHRUaXRsZQBteV9jb2xvcm1hcCBjb2xvcm1hcBJM2FsAAAAgdEVYdERlc2NyaXB0aW9uAG15X2NvbG9ybWFwIGNvbG9ybWFwg1KcDQAAADB0RVh0QXV0aG9yAE1hdHBsb3RsaWIgdjMuOS4xLCBodHRwczovL21hdHBsb3RsaWIub3JnVHRzAAAAADJ0RVh0U29mdHdhcmUATWF0cGxvdGxpYiB2My45LjEsIGh0dHBzOi8vbWF0cGxvdGxpYi5vcmd60uwnAAACJElEQVR4nO3WQZKbMBRF0S96kCwnC8j+d5MVxBYZGNyF3GrcTiWTd85EJSEBxpPb6uePtaqqtVZVVW1ZPh7bZH1pT+4br/+b5y2n95k89+y993NP/76/e97+O5btf3nbxmU797a04fqwfzv/fu64Pj83POdk/ex95udm7/PxfZ99z8dzr3238X3+93f7+v/42nf7/u1XVVXVej2O1U/m+/7+xfnxfus67Bvfo0/WT69v632yfj+/j5fJ+HvbP7t+cu7Z/dfhfff5dH2Y99n65/dbL9v/sK3363qb9/Ww/j7fr/fDvE/Wz+7T+36+H+fjOO5/uP7a+ftnuU3rMszH6/v8cp+3T/ef3m9tx/udjI/72pP7hvE21FIAQBwBAACBBAAABBIAABBIAABAIAEAAIEEAAAEEgAAEEgAAEAgAQAAgQQAAAQSAAAQSAAAQCABAACBBAAABBIAABBIAABAIAEAAIEEAAAEEgAAEEgAAEAgAQAAgQQAAAQSAAAQSAAAQCABAACBBAAABBIAABBIAABAIAEAAIEEAAAEEgAAEEgAAEAgAQAAgQQAAAQSAAAQSAAAQCABAACBBAAABBIAABBIAABAIAEAAIEEAAAEEgAAEEgAAEAgAQAAgQQAAAQSAAAQSAAAQCABAACBBAAABBIAABBIAABAIAEAAIEEAAAEEgAAEEgAAEAgAQAAgQQAAAQSAAAQSAAAQCABAACBBAAABPoDuw4aHotuG2oAAAAASUVORK5CYII=\"></div><div style=\"vertical-align: middle; max-width: 514px; display: flex; justify-content: space-between;\"><div style=\"float: left;\"><div title=\"#003c30ff\" style=\"display: inline-block; width: 1em; height: 1em; margin: 0; vertical-align: middle; border: 1px solid #555; background-color: #003c30ff;\"></div> under</div><div style=\"margin: 0 auto; display: inline-block;\">bad <div title=\"#00000000\" style=\"display: inline-block; width: 1em; height: 1em; margin: 0; vertical-align: middle; border: 1px solid #555; background-color: #00000000;\"></div></div><div style=\"float: right;\">over <div title=\"#662506ff\" style=\"display: inline-block; width: 1em; height: 1em; margin: 0; vertical-align: middle; border: 1px solid #555; background-color: #662506ff;\"></div></div>"
      ],
      "text/plain": [
       "<matplotlib.colors.LinearSegmentedColormap at 0x155334489e40>"
      ]
     },
     "execution_count": 48,
     "metadata": {},
     "output_type": "execute_result"
    }
   ],
   "source": [
    "mcolors.LinearSegmentedColormap.from_list('my_colormap', np.vstack((cmap_dict[\"ipcc_prec_div\"](np.linspace(0.5, 1, 128)[::-1]),cm.YlOrBr(np.linspace(0, 1, 128)) )))"
   ]
  },
  {
   "cell_type": "code",
   "execution_count": 47,
   "id": "648581e6-a5c6-4dfa-8447-6b42abc02b42",
   "metadata": {},
   "outputs": [
    {
     "data": {
      "image/png": "[encoded data removed]",
      "text/html": [
       "<div style=\"vertical-align: middle;\"><strong>colormap</strong> </div><div class=\"cmap\"><img alt=\"colormap colormap\" title=\"colormap\" style=\"border: 1px solid #555;\" src=\"data:image/png;base64,iVBORw0KGgoAAAANSUhEUgAAAgAAAABACAYAAABsv8+/AAAAF3RFWHRUaXRsZQBjb2xvcm1hcCBjb2xvcm1hcGGr74wAAAAddEVYdERlc2NyaXB0aW9uAGNvbG9ybWFwIGNvbG9ybWFwSNUIpQAAADB0RVh0QXV0aG9yAE1hdHBsb3RsaWIgdjMuOS4xLCBodHRwczovL21hdHBsb3RsaWIub3JnVHRzAAAAADJ0RVh0U29mdHdhcmUATWF0cGxvdGxpYiB2My45LjEsIGh0dHBzOi8vbWF0cGxvdGxpYi5vcmd60uwnAAACEElEQVR4nO3WQU7rMBiF0T+J2M9bDPvfCTGDuqA6GIxexeSeMwlJHNtNkfptr/9eWlXVvlVVVe39j33bhvPh/g/jjum4mjw3nA/jjsVx0/WG69f5JvMsjjtm72k63/fjjr5ObcftsPfjx/k+3N+H+0df4P7c/uU8dXnucdx1/dn91fkf5/nY39P2OXkPT9vn4vyX+8O60/f59f4+v8/FfU7WG+dvdft/O9tZVVVvZ+vnt+Pb5Xo/b8O48xyem10fzqfzPq47uz6fd3Wfa/tZ3eez3tv18//te3ve99iP/fk2O7bZ/bY4brzfFsf9br3L57jMM1n3p33fn1v+fP+5Xv9e7j8zAEAQAQAAgQQAAAQSAAAQSAAAQCABAACBBAAABBIAABBIAABAIAEAAIEEAAAEEgAAEEgAAEAgAQAAgQQAAAQSAAAQSAAAQCABAACBBAAABBIAABBIAABAIAEAAIEEAAAEEgAAEEgAAEAgAQAAgQQAAAQSAAAQSAAAQCABAACBBAAABBIAABBIAABAIAEAAIEEAAAEEgAAEEgAAEAgAQAAgQQAAAQSAAAQSAAAQCABAACBBAAABBIAABBIAABAIAEAAIEEAAAEEgAAEEgAAEAgAQAAgQQAAAQSAAAQSAAAQCABAACBBAAABBIAABBIAABAIAEAAIEEAAAEEgAAEEgAAEAgAQAAgQQAAAR6B0MTf/poigr9AAAAAElFTkSuQmCC\"></div><div style=\"vertical-align: middle; max-width: 514px; display: flex; justify-content: space-between;\"><div style=\"float: left;\"><div title=\"#543005ff\" style=\"display: inline-block; width: 1em; height: 1em; margin: 0; vertical-align: middle; border: 1px solid #555; background-color: #543005ff;\"></div> under</div><div style=\"margin: 0 auto; display: inline-block;\">bad <div title=\"#00000000\" style=\"display: inline-block; width: 1em; height: 1em; margin: 0; vertical-align: middle; border: 1px solid #555; background-color: #00000000;\"></div></div><div style=\"float: right;\">over <div title=\"#003c30ff\" style=\"display: inline-block; width: 1em; height: 1em; margin: 0; vertical-align: middle; border: 1px solid #555; background-color: #003c30ff;\"></div></div>"
      ],
      "text/plain": [
       "<matplotlib.colors.LinearSegmentedColormap at 0x15533af23b80>"
      ]
     },
     "execution_count": 47,
     "metadata": {},
     "output_type": "execute_result"
    }
   ],
   "source": [
    "cmap_dict[\"ipcc_prec_div\"]"
   ]
  },
  {
   "cell_type": "code",
   "execution_count": 32,
   "id": "f594ef2b-362d-45a3-907e-f79c898802b7",
   "metadata": {},
   "outputs": [
    {
     "name": "stdout",
     "output_type": "stream",
     "text": [
      "/g/data/mn51/users/gt3409/plotting_maps\n"
     ]
    }
   ],
   "source": [
    "cd /g/data/mn51/users/gt3409/plotting_maps"
   ]
  },
  {
   "cell_type": "code",
   "execution_count": 34,
   "id": "9effd334-d223-42cd-a09f-5efe3e9acefd",
   "metadata": {},
   "outputs": [],
   "source": [
    "from acs_plotting_maps import *\n"
   ]
  },
  {
   "cell_type": "code",
   "execution_count": null,
   "id": "c469e4c8-9d5a-4c4e-aae4-eaa8c0ecb54f",
   "metadata": {},
   "outputs": [],
   "source": []
  }
 ],
 "metadata": {
  "kernelspec": {
   "display_name": "Python [conda env:analysis3-24.04] *",
   "language": "python",
   "name": "conda-env-analysis3-24.04-py"
  },
  "language_info": {
   "codemirror_mode": {
    "name": "ipython",
    "version": 3
   },
   "file_extension": ".py",
   "mimetype": "text/x-python",
   "name": "python",
   "nbconvert_exporter": "python",
   "pygments_lexer": "ipython3",
   "version": "3.10.14"
  }
 },
 "nbformat": 4,
 "nbformat_minor": 5
}
