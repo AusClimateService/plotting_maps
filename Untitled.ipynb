{
 "cells": [
  {
   "cell_type": "code",
   "execution_count": 1,
   "id": "b15b9c32-7c94-410a-ad69-cc63a73cc526",
   "metadata": {},
   "outputs": [
    {
     "name": "stdout",
     "output_type": "stream",
     "text": [
      "/g/data/mn51/users/gt3409/plotting_maps\n"
     ]
    }
   ],
   "source": [
    "cd /g/data/mn51/users/gt3409/plotting_maps/"
   ]
  },
  {
   "cell_type": "code",
   "execution_count": 3,
   "id": "f2d23bba-1897-481a-8e38-6d0d20204d8c",
   "metadata": {},
   "outputs": [],
   "source": [
    "from acs_plotting_maps import *"
   ]
  },
  {
   "cell_type": "code",
   "execution_count": null,
   "id": "ea5dfab7-f1f0-416c-987f-5d1cf328f8ee",
   "metadata": {},
   "outputs": [],
   "source": []
  },
  {
   "cell_type": "code",
   "execution_count": null,
   "id": "d68c490f-9239-4cc5-9917-c6644601f568",
   "metadata": {},
   "outputs": [],
   "source": []
  },
  {
   "cell_type": "code",
   "execution_count": null,
   "id": "bde8eab8-4727-455e-8493-a74af8f4f156",
   "metadata": {},
   "outputs": [],
   "source": []
  },
  {
   "cell_type": "code",
   "execution_count": 4,
   "id": "63b06475-925a-45b2-b6a9-ed3479ac12a2",
   "metadata": {},
   "outputs": [
    {
     "ename": "NameError",
     "evalue": "name 'da_pr_anom' is not defined",
     "output_type": "error",
     "traceback": [
      "\u001b[0;31m---------------------------------------------------------------------------\u001b[0m",
      "\u001b[0;31mNameError\u001b[0m                                 Traceback (most recent call last)",
      "Cell \u001b[0;32mIn[4], line 1\u001b[0m\n\u001b[0;32m----> 1\u001b[0m plot_aus_shapefiles(data \u001b[38;5;241m=\u001b[39m \u001b[43mda_pr_anom\u001b[49m,\n\u001b[1;32m      2\u001b[0m                     gdf \u001b[38;5;241m=\u001b[39m gdf_dict[\u001b[38;5;124m'\u001b[39m\u001b[38;5;124maus_states_territories\u001b[39m\u001b[38;5;124m'\u001b[39m],\n\u001b[1;32m      3\u001b[0m                    cmap\u001b[38;5;241m=\u001b[39mcmap_dict[\u001b[38;5;124m\"\u001b[39m\u001b[38;5;124mpr_anom\u001b[39m\u001b[38;5;124m\"\u001b[39m],\n\u001b[1;32m      4\u001b[0m                    ticks\u001b[38;5;241m=\u001b[39mtick_dict[\u001b[38;5;124m'\u001b[39m\u001b[38;5;124mpr_anom_mon\u001b[39m\u001b[38;5;124m'\u001b[39m],\n\u001b[1;32m      5\u001b[0m                    cbar_label\u001b[38;5;241m=\u001b[39m\u001b[38;5;124m\"\u001b[39m\u001b[38;5;124mmonthly rainfall anomaly\u001b[39m\u001b[38;5;130;01m\\n\u001b[39;00m\u001b[38;5;124m[mm]\u001b[39m\u001b[38;5;124m\"\u001b[39m,\n\u001b[1;32m      6\u001b[0m                    title\u001b[38;5;241m=\u001b[39m\u001b[38;5;124m\"\u001b[39m\u001b[38;5;124mJanuary rainfall anomaly\u001b[39m\u001b[38;5;124m\"\u001b[39m,\n\u001b[1;32m      7\u001b[0m                    date_range\u001b[38;5;241m=\u001b[39m\u001b[38;5;124mf\u001b[39m\u001b[38;5;124m\"\u001b[39m\u001b[38;5;124m01 January 2015 to 31 January 2015\u001b[39m\u001b[38;5;124m\"\u001b[39m,\n\u001b[1;32m      8\u001b[0m                    baseline\u001b[38;5;241m=\u001b[39m \u001b[38;5;124m\"\u001b[39m\u001b[38;5;124m2015 - 2015\u001b[39m\u001b[38;5;124m\"\u001b[39m,\n\u001b[1;32m      9\u001b[0m                    dataset_name\u001b[38;5;241m=\u001b[39mds_pr\u001b[38;5;241m.\u001b[39msource_id,\n\u001b[1;32m     10\u001b[0m                     );\n",
      "\u001b[0;31mNameError\u001b[0m: name 'da_pr_anom' is not defined"
     ]
    }
   ],
   "source": [
    "\n",
    "plot_aus_shapefiles(data = da_pr_anom,\n",
    "                    gdf = gdf_dict['aus_states_territories'],\n",
    "                   cmap=cmap_dict[\"pr_anom\"],\n",
    "                   ticks=tick_dict['pr_anom_mon'],\n",
    "                   cbar_label=\"monthly rainfall anomaly\\n[mm]\",\n",
    "                   title=\"January rainfall anomaly\",\n",
    "                   date_range=f\"01 January 2015 to 31 January 2015\",\n",
    "                   baseline= \"2015 - 2015\",\n",
    "                   dataset_name=ds_pr.source_id,\n",
    "                    );"
   ]
  },
  {
   "cell_type": "code",
   "execution_count": null,
   "id": "fe0bdc43-ee40-49dc-b7e1-40eb4dc8563a",
   "metadata": {},
   "outputs": [],
   "source": []
  },
  {
   "cell_type": "code",
   "execution_count": null,
   "id": "1c54586a-41da-47a1-b8dc-fa7e507a32e5",
   "metadata": {},
   "outputs": [],
   "source": []
  },
  {
   "cell_type": "code",
   "execution_count": null,
   "id": "39cae88d-3b3a-4652-bf8e-e1e414ed3cc9",
   "metadata": {},
   "outputs": [],
   "source": []
  },
  {
   "cell_type": "code",
   "execution_count": null,
   "id": "5379f3cb-c254-403d-b587-e51a7bba95b9",
   "metadata": {},
   "outputs": [],
   "source": []
  }
 ],
 "metadata": {
  "kernelspec": {
   "display_name": "Python [conda env:analysis3-24.04]",
   "language": "python",
   "name": "conda-env-analysis3-24.04-py"
  },
  "language_info": {
   "codemirror_mode": {
    "name": "ipython",
    "version": 3
   },
   "file_extension": ".py",
   "mimetype": "text/x-python",
   "name": "python",
   "nbconvert_exporter": "python",
   "pygments_lexer": "ipython3",
   "version": "3.10.14"
  }
 },
 "nbformat": 4,
 "nbformat_minor": 5
}
